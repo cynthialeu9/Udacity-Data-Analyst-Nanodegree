{
 "cells": [
  {
   "cell_type": "markdown",
   "metadata": {},
   "source": [
    "# Ford GoBike System Data\n",
    "## by Cynthia Leu"
   ]
  },
  {
   "cell_type": "markdown",
   "metadata": {},
   "source": [
    "## Table Contents\n",
    "1. Introduction\n",
    "2. Preliminary Wrangling\n",
    "    - Gather\n",
    "    - Assess\n",
    "    - Clean\n",
    "3. Univariate Exploration\n",
    "4. Bivariate Exploration\n",
    "5. Multivariate Exploration"
   ]
  },
  {
   "cell_type": "markdown",
   "metadata": {},
   "source": [
    "## Introduction\n",
    "\n",
    "Ford GoBike is a regional public bicycle sharing system in California's San Francisco Bay Area. As of July 2018, the system had about 10,000 annual subscribers, over 2,600 bicycles in 262 stations across San Francisco, East Bay and San Jose. The dataset in this exploratory analysis is from their February 2019 individual trip data, provided [online](https://s3.amazonaws.com/baywheels-data/index.html) for free public use. Some questions that will be asked and answered here are: When are most trip taken in terms of time of day or day of week? How long does the average trip take? Does the above depend on if a user is a subscriber or customer?"
   ]
  },
  {
   "cell_type": "code",
   "execution_count": 1,
   "metadata": {},
   "outputs": [],
   "source": [
    "# import all packages and set plots to be embedded inline\n",
    "import numpy as np\n",
    "import pandas as pd\n",
    "import matplotlib.pyplot as plt\n",
    "import seaborn as sb\n",
    "\n",
    "%matplotlib inline"
   ]
  },
  {
   "cell_type": "markdown",
   "metadata": {},
   "source": [
    "## Preliminary Wrangling\n",
    "\n",
    "### Gather"
   ]
  },
  {
   "cell_type": "code",
   "execution_count": 2,
   "metadata": {},
   "outputs": [],
   "source": [
    "bike_raw = pd.read_csv('201902-fordgobike-tripdata.csv')"
   ]
  },
  {
   "cell_type": "markdown",
   "metadata": {},
   "source": [
    "### Assess"
   ]
  },
  {
   "cell_type": "code",
   "execution_count": 3,
   "metadata": {
    "scrolled": true
   },
   "outputs": [
    {
     "data": {
      "text/html": [
       "<div>\n",
       "<style scoped>\n",
       "    .dataframe tbody tr th:only-of-type {\n",
       "        vertical-align: middle;\n",
       "    }\n",
       "\n",
       "    .dataframe tbody tr th {\n",
       "        vertical-align: top;\n",
       "    }\n",
       "\n",
       "    .dataframe thead th {\n",
       "        text-align: right;\n",
       "    }\n",
       "</style>\n",
       "<table border=\"1\" class=\"dataframe\">\n",
       "  <thead>\n",
       "    <tr style=\"text-align: right;\">\n",
       "      <th></th>\n",
       "      <th>duration_sec</th>\n",
       "      <th>start_time</th>\n",
       "      <th>end_time</th>\n",
       "      <th>start_station_id</th>\n",
       "      <th>start_station_name</th>\n",
       "      <th>start_station_latitude</th>\n",
       "      <th>start_station_longitude</th>\n",
       "      <th>end_station_id</th>\n",
       "      <th>end_station_name</th>\n",
       "      <th>end_station_latitude</th>\n",
       "      <th>end_station_longitude</th>\n",
       "      <th>bike_id</th>\n",
       "      <th>user_type</th>\n",
       "      <th>member_birth_year</th>\n",
       "      <th>member_gender</th>\n",
       "      <th>bike_share_for_all_trip</th>\n",
       "    </tr>\n",
       "  </thead>\n",
       "  <tbody>\n",
       "    <tr>\n",
       "      <th>0</th>\n",
       "      <td>52185</td>\n",
       "      <td>2019-02-28 17:32:10.1450</td>\n",
       "      <td>2019-03-01 08:01:55.9750</td>\n",
       "      <td>21.0</td>\n",
       "      <td>Montgomery St BART Station (Market St at 2nd St)</td>\n",
       "      <td>37.789625</td>\n",
       "      <td>-122.400811</td>\n",
       "      <td>13.0</td>\n",
       "      <td>Commercial St at Montgomery St</td>\n",
       "      <td>37.794231</td>\n",
       "      <td>-122.402923</td>\n",
       "      <td>4902</td>\n",
       "      <td>Customer</td>\n",
       "      <td>1984.0</td>\n",
       "      <td>Male</td>\n",
       "      <td>No</td>\n",
       "    </tr>\n",
       "    <tr>\n",
       "      <th>1</th>\n",
       "      <td>42521</td>\n",
       "      <td>2019-02-28 18:53:21.7890</td>\n",
       "      <td>2019-03-01 06:42:03.0560</td>\n",
       "      <td>23.0</td>\n",
       "      <td>The Embarcadero at Steuart St</td>\n",
       "      <td>37.791464</td>\n",
       "      <td>-122.391034</td>\n",
       "      <td>81.0</td>\n",
       "      <td>Berry St at 4th St</td>\n",
       "      <td>37.775880</td>\n",
       "      <td>-122.393170</td>\n",
       "      <td>2535</td>\n",
       "      <td>Customer</td>\n",
       "      <td>NaN</td>\n",
       "      <td>NaN</td>\n",
       "      <td>No</td>\n",
       "    </tr>\n",
       "    <tr>\n",
       "      <th>2</th>\n",
       "      <td>61854</td>\n",
       "      <td>2019-02-28 12:13:13.2180</td>\n",
       "      <td>2019-03-01 05:24:08.1460</td>\n",
       "      <td>86.0</td>\n",
       "      <td>Market St at Dolores St</td>\n",
       "      <td>37.769305</td>\n",
       "      <td>-122.426826</td>\n",
       "      <td>3.0</td>\n",
       "      <td>Powell St BART Station (Market St at 4th St)</td>\n",
       "      <td>37.786375</td>\n",
       "      <td>-122.404904</td>\n",
       "      <td>5905</td>\n",
       "      <td>Customer</td>\n",
       "      <td>1972.0</td>\n",
       "      <td>Male</td>\n",
       "      <td>No</td>\n",
       "    </tr>\n",
       "    <tr>\n",
       "      <th>3</th>\n",
       "      <td>36490</td>\n",
       "      <td>2019-02-28 17:54:26.0100</td>\n",
       "      <td>2019-03-01 04:02:36.8420</td>\n",
       "      <td>375.0</td>\n",
       "      <td>Grove St at Masonic Ave</td>\n",
       "      <td>37.774836</td>\n",
       "      <td>-122.446546</td>\n",
       "      <td>70.0</td>\n",
       "      <td>Central Ave at Fell St</td>\n",
       "      <td>37.773311</td>\n",
       "      <td>-122.444293</td>\n",
       "      <td>6638</td>\n",
       "      <td>Subscriber</td>\n",
       "      <td>1989.0</td>\n",
       "      <td>Other</td>\n",
       "      <td>No</td>\n",
       "    </tr>\n",
       "    <tr>\n",
       "      <th>4</th>\n",
       "      <td>1585</td>\n",
       "      <td>2019-02-28 23:54:18.5490</td>\n",
       "      <td>2019-03-01 00:20:44.0740</td>\n",
       "      <td>7.0</td>\n",
       "      <td>Frank H Ogawa Plaza</td>\n",
       "      <td>37.804562</td>\n",
       "      <td>-122.271738</td>\n",
       "      <td>222.0</td>\n",
       "      <td>10th Ave at E 15th St</td>\n",
       "      <td>37.792714</td>\n",
       "      <td>-122.248780</td>\n",
       "      <td>4898</td>\n",
       "      <td>Subscriber</td>\n",
       "      <td>1974.0</td>\n",
       "      <td>Male</td>\n",
       "      <td>Yes</td>\n",
       "    </tr>\n",
       "    <tr>\n",
       "      <th>...</th>\n",
       "      <td>...</td>\n",
       "      <td>...</td>\n",
       "      <td>...</td>\n",
       "      <td>...</td>\n",
       "      <td>...</td>\n",
       "      <td>...</td>\n",
       "      <td>...</td>\n",
       "      <td>...</td>\n",
       "      <td>...</td>\n",
       "      <td>...</td>\n",
       "      <td>...</td>\n",
       "      <td>...</td>\n",
       "      <td>...</td>\n",
       "      <td>...</td>\n",
       "      <td>...</td>\n",
       "      <td>...</td>\n",
       "    </tr>\n",
       "    <tr>\n",
       "      <th>183407</th>\n",
       "      <td>480</td>\n",
       "      <td>2019-02-01 00:04:49.7240</td>\n",
       "      <td>2019-02-01 00:12:50.0340</td>\n",
       "      <td>27.0</td>\n",
       "      <td>Beale St at Harrison St</td>\n",
       "      <td>37.788059</td>\n",
       "      <td>-122.391865</td>\n",
       "      <td>324.0</td>\n",
       "      <td>Union Square (Powell St at Post St)</td>\n",
       "      <td>37.788300</td>\n",
       "      <td>-122.408531</td>\n",
       "      <td>4832</td>\n",
       "      <td>Subscriber</td>\n",
       "      <td>1996.0</td>\n",
       "      <td>Male</td>\n",
       "      <td>No</td>\n",
       "    </tr>\n",
       "    <tr>\n",
       "      <th>183408</th>\n",
       "      <td>313</td>\n",
       "      <td>2019-02-01 00:05:34.7440</td>\n",
       "      <td>2019-02-01 00:10:48.5020</td>\n",
       "      <td>21.0</td>\n",
       "      <td>Montgomery St BART Station (Market St at 2nd St)</td>\n",
       "      <td>37.789625</td>\n",
       "      <td>-122.400811</td>\n",
       "      <td>66.0</td>\n",
       "      <td>3rd St at Townsend St</td>\n",
       "      <td>37.778742</td>\n",
       "      <td>-122.392741</td>\n",
       "      <td>4960</td>\n",
       "      <td>Subscriber</td>\n",
       "      <td>1984.0</td>\n",
       "      <td>Male</td>\n",
       "      <td>No</td>\n",
       "    </tr>\n",
       "    <tr>\n",
       "      <th>183409</th>\n",
       "      <td>141</td>\n",
       "      <td>2019-02-01 00:06:05.5490</td>\n",
       "      <td>2019-02-01 00:08:27.2200</td>\n",
       "      <td>278.0</td>\n",
       "      <td>The Alameda at Bush St</td>\n",
       "      <td>37.331932</td>\n",
       "      <td>-121.904888</td>\n",
       "      <td>277.0</td>\n",
       "      <td>Morrison Ave at Julian St</td>\n",
       "      <td>37.333658</td>\n",
       "      <td>-121.908586</td>\n",
       "      <td>3824</td>\n",
       "      <td>Subscriber</td>\n",
       "      <td>1990.0</td>\n",
       "      <td>Male</td>\n",
       "      <td>Yes</td>\n",
       "    </tr>\n",
       "    <tr>\n",
       "      <th>183410</th>\n",
       "      <td>139</td>\n",
       "      <td>2019-02-01 00:05:34.3600</td>\n",
       "      <td>2019-02-01 00:07:54.2870</td>\n",
       "      <td>220.0</td>\n",
       "      <td>San Pablo Ave at MLK Jr Way</td>\n",
       "      <td>37.811351</td>\n",
       "      <td>-122.273422</td>\n",
       "      <td>216.0</td>\n",
       "      <td>San Pablo Ave at 27th St</td>\n",
       "      <td>37.817827</td>\n",
       "      <td>-122.275698</td>\n",
       "      <td>5095</td>\n",
       "      <td>Subscriber</td>\n",
       "      <td>1988.0</td>\n",
       "      <td>Male</td>\n",
       "      <td>No</td>\n",
       "    </tr>\n",
       "    <tr>\n",
       "      <th>183411</th>\n",
       "      <td>271</td>\n",
       "      <td>2019-02-01 00:00:20.6360</td>\n",
       "      <td>2019-02-01 00:04:52.0580</td>\n",
       "      <td>24.0</td>\n",
       "      <td>Spear St at Folsom St</td>\n",
       "      <td>37.789677</td>\n",
       "      <td>-122.390428</td>\n",
       "      <td>37.0</td>\n",
       "      <td>2nd St at Folsom St</td>\n",
       "      <td>37.785000</td>\n",
       "      <td>-122.395936</td>\n",
       "      <td>1057</td>\n",
       "      <td>Subscriber</td>\n",
       "      <td>1989.0</td>\n",
       "      <td>Male</td>\n",
       "      <td>No</td>\n",
       "    </tr>\n",
       "  </tbody>\n",
       "</table>\n",
       "<p>183412 rows × 16 columns</p>\n",
       "</div>"
      ],
      "text/plain": [
       "        duration_sec                start_time                  end_time  \\\n",
       "0              52185  2019-02-28 17:32:10.1450  2019-03-01 08:01:55.9750   \n",
       "1              42521  2019-02-28 18:53:21.7890  2019-03-01 06:42:03.0560   \n",
       "2              61854  2019-02-28 12:13:13.2180  2019-03-01 05:24:08.1460   \n",
       "3              36490  2019-02-28 17:54:26.0100  2019-03-01 04:02:36.8420   \n",
       "4               1585  2019-02-28 23:54:18.5490  2019-03-01 00:20:44.0740   \n",
       "...              ...                       ...                       ...   \n",
       "183407           480  2019-02-01 00:04:49.7240  2019-02-01 00:12:50.0340   \n",
       "183408           313  2019-02-01 00:05:34.7440  2019-02-01 00:10:48.5020   \n",
       "183409           141  2019-02-01 00:06:05.5490  2019-02-01 00:08:27.2200   \n",
       "183410           139  2019-02-01 00:05:34.3600  2019-02-01 00:07:54.2870   \n",
       "183411           271  2019-02-01 00:00:20.6360  2019-02-01 00:04:52.0580   \n",
       "\n",
       "        start_station_id                                start_station_name  \\\n",
       "0                   21.0  Montgomery St BART Station (Market St at 2nd St)   \n",
       "1                   23.0                     The Embarcadero at Steuart St   \n",
       "2                   86.0                           Market St at Dolores St   \n",
       "3                  375.0                           Grove St at Masonic Ave   \n",
       "4                    7.0                               Frank H Ogawa Plaza   \n",
       "...                  ...                                               ...   \n",
       "183407              27.0                           Beale St at Harrison St   \n",
       "183408              21.0  Montgomery St BART Station (Market St at 2nd St)   \n",
       "183409             278.0                            The Alameda at Bush St   \n",
       "183410             220.0                       San Pablo Ave at MLK Jr Way   \n",
       "183411              24.0                             Spear St at Folsom St   \n",
       "\n",
       "        start_station_latitude  start_station_longitude  end_station_id  \\\n",
       "0                    37.789625              -122.400811            13.0   \n",
       "1                    37.791464              -122.391034            81.0   \n",
       "2                    37.769305              -122.426826             3.0   \n",
       "3                    37.774836              -122.446546            70.0   \n",
       "4                    37.804562              -122.271738           222.0   \n",
       "...                        ...                      ...             ...   \n",
       "183407               37.788059              -122.391865           324.0   \n",
       "183408               37.789625              -122.400811            66.0   \n",
       "183409               37.331932              -121.904888           277.0   \n",
       "183410               37.811351              -122.273422           216.0   \n",
       "183411               37.789677              -122.390428            37.0   \n",
       "\n",
       "                                    end_station_name  end_station_latitude  \\\n",
       "0                     Commercial St at Montgomery St             37.794231   \n",
       "1                                 Berry St at 4th St             37.775880   \n",
       "2       Powell St BART Station (Market St at 4th St)             37.786375   \n",
       "3                             Central Ave at Fell St             37.773311   \n",
       "4                              10th Ave at E 15th St             37.792714   \n",
       "...                                              ...                   ...   \n",
       "183407           Union Square (Powell St at Post St)             37.788300   \n",
       "183408                         3rd St at Townsend St             37.778742   \n",
       "183409                     Morrison Ave at Julian St             37.333658   \n",
       "183410                      San Pablo Ave at 27th St             37.817827   \n",
       "183411                           2nd St at Folsom St             37.785000   \n",
       "\n",
       "        end_station_longitude  bike_id   user_type  member_birth_year  \\\n",
       "0                 -122.402923     4902    Customer             1984.0   \n",
       "1                 -122.393170     2535    Customer                NaN   \n",
       "2                 -122.404904     5905    Customer             1972.0   \n",
       "3                 -122.444293     6638  Subscriber             1989.0   \n",
       "4                 -122.248780     4898  Subscriber             1974.0   \n",
       "...                       ...      ...         ...                ...   \n",
       "183407            -122.408531     4832  Subscriber             1996.0   \n",
       "183408            -122.392741     4960  Subscriber             1984.0   \n",
       "183409            -121.908586     3824  Subscriber             1990.0   \n",
       "183410            -122.275698     5095  Subscriber             1988.0   \n",
       "183411            -122.395936     1057  Subscriber             1989.0   \n",
       "\n",
       "       member_gender bike_share_for_all_trip  \n",
       "0               Male                      No  \n",
       "1                NaN                      No  \n",
       "2               Male                      No  \n",
       "3              Other                      No  \n",
       "4               Male                     Yes  \n",
       "...              ...                     ...  \n",
       "183407          Male                      No  \n",
       "183408          Male                      No  \n",
       "183409          Male                     Yes  \n",
       "183410          Male                      No  \n",
       "183411          Male                      No  \n",
       "\n",
       "[183412 rows x 16 columns]"
      ]
     },
     "execution_count": 3,
     "metadata": {},
     "output_type": "execute_result"
    }
   ],
   "source": [
    "bike_raw"
   ]
  },
  {
   "cell_type": "code",
   "execution_count": 4,
   "metadata": {
    "scrolled": true
   },
   "outputs": [
    {
     "name": "stdout",
     "output_type": "stream",
     "text": [
      "<class 'pandas.core.frame.DataFrame'>\n",
      "RangeIndex: 183412 entries, 0 to 183411\n",
      "Data columns (total 16 columns):\n",
      " #   Column                   Non-Null Count   Dtype  \n",
      "---  ------                   --------------   -----  \n",
      " 0   duration_sec             183412 non-null  int64  \n",
      " 1   start_time               183412 non-null  object \n",
      " 2   end_time                 183412 non-null  object \n",
      " 3   start_station_id         183215 non-null  float64\n",
      " 4   start_station_name       183215 non-null  object \n",
      " 5   start_station_latitude   183412 non-null  float64\n",
      " 6   start_station_longitude  183412 non-null  float64\n",
      " 7   end_station_id           183215 non-null  float64\n",
      " 8   end_station_name         183215 non-null  object \n",
      " 9   end_station_latitude     183412 non-null  float64\n",
      " 10  end_station_longitude    183412 non-null  float64\n",
      " 11  bike_id                  183412 non-null  int64  \n",
      " 12  user_type                183412 non-null  object \n",
      " 13  member_birth_year        175147 non-null  float64\n",
      " 14  member_gender            175147 non-null  object \n",
      " 15  bike_share_for_all_trip  183412 non-null  object \n",
      "dtypes: float64(7), int64(2), object(7)\n",
      "memory usage: 22.4+ MB\n"
     ]
    }
   ],
   "source": [
    "bike_raw.info()"
   ]
  },
  {
   "cell_type": "code",
   "execution_count": 5,
   "metadata": {},
   "outputs": [
    {
     "data": {
      "text/plain": [
       "duration_sec                  0\n",
       "start_time                    0\n",
       "end_time                      0\n",
       "start_station_id            197\n",
       "start_station_name          197\n",
       "start_station_latitude        0\n",
       "start_station_longitude       0\n",
       "end_station_id              197\n",
       "end_station_name            197\n",
       "end_station_latitude          0\n",
       "end_station_longitude         0\n",
       "bike_id                       0\n",
       "user_type                     0\n",
       "member_birth_year          8265\n",
       "member_gender              8265\n",
       "bike_share_for_all_trip       0\n",
       "dtype: int64"
      ]
     },
     "execution_count": 5,
     "metadata": {},
     "output_type": "execute_result"
    }
   ],
   "source": [
    "bike_raw.isnull().sum()"
   ]
  },
  {
   "cell_type": "code",
   "execution_count": 6,
   "metadata": {
    "scrolled": true
   },
   "outputs": [
    {
     "data": {
      "text/plain": [
       "0"
      ]
     },
     "execution_count": 6,
     "metadata": {},
     "output_type": "execute_result"
    }
   ],
   "source": [
    "bike_raw.duplicated().sum()"
   ]
  },
  {
   "cell_type": "code",
   "execution_count": 7,
   "metadata": {},
   "outputs": [
    {
     "data": {
      "text/plain": [
       "array(['Customer', 'Subscriber'], dtype=object)"
      ]
     },
     "execution_count": 7,
     "metadata": {},
     "output_type": "execute_result"
    }
   ],
   "source": [
    "bike_raw.user_type.unique()"
   ]
  },
  {
   "cell_type": "code",
   "execution_count": 8,
   "metadata": {},
   "outputs": [
    {
     "data": {
      "text/plain": [
       "array(['Male', nan, 'Other', 'Female'], dtype=object)"
      ]
     },
     "execution_count": 8,
     "metadata": {},
     "output_type": "execute_result"
    }
   ],
   "source": [
    "bike_raw.member_gender.unique()"
   ]
  },
  {
   "cell_type": "code",
   "execution_count": 9,
   "metadata": {},
   "outputs": [
    {
     "data": {
      "text/plain": [
       "array(['No', 'Yes'], dtype=object)"
      ]
     },
     "execution_count": 9,
     "metadata": {},
     "output_type": "execute_result"
    }
   ],
   "source": [
    "bike_raw.bike_share_for_all_trip.unique()"
   ]
  },
  {
   "cell_type": "code",
   "execution_count": 10,
   "metadata": {},
   "outputs": [
    {
     "data": {
      "text/plain": [
       "Int64Index([2019], dtype='int64', name='start_time')"
      ]
     },
     "execution_count": 10,
     "metadata": {},
     "output_type": "execute_result"
    }
   ],
   "source": [
    "pd.DatetimeIndex(bike_raw.start_time).year.unique()"
   ]
  },
  {
   "cell_type": "markdown",
   "metadata": {},
   "source": [
    "##### Quality & Tidiness\n",
    "- change to datetime: start_time, end_time \n",
    "- change to str: start_station_id, end_station_id, bike_id\n",
    "- change to category: user_type, member_gender, bike_share_for_all_trip\n",
    "- member_age column from member_birth_year\n",
    "- duration_min column from duration_sec\n",
    "- additional columns from start_time and end_time (start and end date in yyyy-mm-dd format, start and end hour, start and end day of week, etc)"
   ]
  },
  {
   "cell_type": "markdown",
   "metadata": {},
   "source": [
    "### Clean"
   ]
  },
  {
   "cell_type": "markdown",
   "metadata": {},
   "source": [
    "Make a copy of the dataset before cleaning."
   ]
  },
  {
   "cell_type": "code",
   "execution_count": 11,
   "metadata": {},
   "outputs": [],
   "source": [
    "bike_clean = bike_raw.copy()"
   ]
  },
  {
   "cell_type": "markdown",
   "metadata": {},
   "source": [
    "**Convert relevant fields to appropriate datatypes**\n",
    "\n",
    "##### Define\n",
    "Convert start_time and end_time to datetime. Convert start_station_id, end_station_id, and bike_id to string. Convert user_type, member_gender, and bike_share_for_all_trip to category.\n",
    "\n",
    "##### Code"
   ]
  },
  {
   "cell_type": "code",
   "execution_count": 12,
   "metadata": {},
   "outputs": [],
   "source": [
    "# change to datetime: start_time, end_time \n",
    "bike_clean.start_time = pd.to_datetime(bike_clean.start_time)\n",
    "bike_clean.end_time = pd.to_datetime(bike_clean.end_time)"
   ]
  },
  {
   "cell_type": "code",
   "execution_count": 13,
   "metadata": {},
   "outputs": [],
   "source": [
    "# change to category: start_station_id, end_station_id, bike_id\n",
    "bike_clean.start_station_id = bike_clean.start_station_id.astype(str)\n",
    "bike_clean.end_station_id = bike_clean.end_station_id.astype(str)\n",
    "bike_clean.bike_id = bike_clean.bike_id.astype(str)"
   ]
  },
  {
   "cell_type": "code",
   "execution_count": 14,
   "metadata": {},
   "outputs": [],
   "source": [
    "# change to category: user_type, member_gender, bike_share_for_all_trip\n",
    "bike_clean.user_type = bike_clean.user_type.astype('category')\n",
    "bike_clean.member_gender = bike_clean.member_gender.astype('category')\n",
    "bike_clean.bike_share_for_all_trip = bike_clean.bike_share_for_all_trip.astype('category')"
   ]
  },
  {
   "cell_type": "markdown",
   "metadata": {},
   "source": [
    "##### Test"
   ]
  },
  {
   "cell_type": "code",
   "execution_count": 15,
   "metadata": {
    "scrolled": true
   },
   "outputs": [
    {
     "name": "stdout",
     "output_type": "stream",
     "text": [
      "<class 'pandas.core.frame.DataFrame'>\n",
      "RangeIndex: 183412 entries, 0 to 183411\n",
      "Data columns (total 16 columns):\n",
      " #   Column                   Non-Null Count   Dtype         \n",
      "---  ------                   --------------   -----         \n",
      " 0   duration_sec             183412 non-null  int64         \n",
      " 1   start_time               183412 non-null  datetime64[ns]\n",
      " 2   end_time                 183412 non-null  datetime64[ns]\n",
      " 3   start_station_id         183412 non-null  object        \n",
      " 4   start_station_name       183215 non-null  object        \n",
      " 5   start_station_latitude   183412 non-null  float64       \n",
      " 6   start_station_longitude  183412 non-null  float64       \n",
      " 7   end_station_id           183412 non-null  object        \n",
      " 8   end_station_name         183215 non-null  object        \n",
      " 9   end_station_latitude     183412 non-null  float64       \n",
      " 10  end_station_longitude    183412 non-null  float64       \n",
      " 11  bike_id                  183412 non-null  object        \n",
      " 12  user_type                183412 non-null  category      \n",
      " 13  member_birth_year        175147 non-null  float64       \n",
      " 14  member_gender            175147 non-null  category      \n",
      " 15  bike_share_for_all_trip  183412 non-null  category      \n",
      "dtypes: category(3), datetime64[ns](2), float64(5), int64(1), object(5)\n",
      "memory usage: 18.7+ MB\n"
     ]
    }
   ],
   "source": [
    "bike_clean.info()"
   ]
  },
  {
   "cell_type": "markdown",
   "metadata": {},
   "source": [
    "**member_age column from member_birth_year**\n",
    "\n",
    "##### Define\n",
    "Subtract member_ birth_year from the year of the dataset (2019). Create a new column member_age with the extracted values.\n",
    "\n",
    "##### Code"
   ]
  },
  {
   "cell_type": "code",
   "execution_count": 16,
   "metadata": {},
   "outputs": [],
   "source": [
    "bike_clean['member_age'] = 2019 - bike_clean['member_birth_year']"
   ]
  },
  {
   "cell_type": "markdown",
   "metadata": {},
   "source": [
    "##### Test"
   ]
  },
  {
   "cell_type": "code",
   "execution_count": 17,
   "metadata": {},
   "outputs": [
    {
     "data": {
      "text/html": [
       "<div>\n",
       "<style scoped>\n",
       "    .dataframe tbody tr th:only-of-type {\n",
       "        vertical-align: middle;\n",
       "    }\n",
       "\n",
       "    .dataframe tbody tr th {\n",
       "        vertical-align: top;\n",
       "    }\n",
       "\n",
       "    .dataframe thead th {\n",
       "        text-align: right;\n",
       "    }\n",
       "</style>\n",
       "<table border=\"1\" class=\"dataframe\">\n",
       "  <thead>\n",
       "    <tr style=\"text-align: right;\">\n",
       "      <th></th>\n",
       "      <th>duration_sec</th>\n",
       "      <th>start_time</th>\n",
       "      <th>end_time</th>\n",
       "      <th>start_station_id</th>\n",
       "      <th>start_station_name</th>\n",
       "      <th>start_station_latitude</th>\n",
       "      <th>start_station_longitude</th>\n",
       "      <th>end_station_id</th>\n",
       "      <th>end_station_name</th>\n",
       "      <th>end_station_latitude</th>\n",
       "      <th>end_station_longitude</th>\n",
       "      <th>bike_id</th>\n",
       "      <th>user_type</th>\n",
       "      <th>member_birth_year</th>\n",
       "      <th>member_gender</th>\n",
       "      <th>bike_share_for_all_trip</th>\n",
       "      <th>member_age</th>\n",
       "    </tr>\n",
       "  </thead>\n",
       "  <tbody>\n",
       "    <tr>\n",
       "      <th>51895</th>\n",
       "      <td>1109</td>\n",
       "      <td>2019-02-21 17:30:11.168</td>\n",
       "      <td>2019-02-21 17:48:40.839</td>\n",
       "      <td>15.0</td>\n",
       "      <td>San Francisco Ferry Building (Harry Bridges Pl...</td>\n",
       "      <td>37.795392</td>\n",
       "      <td>-122.394203</td>\n",
       "      <td>126.0</td>\n",
       "      <td>Esprit Park</td>\n",
       "      <td>37.761634</td>\n",
       "      <td>-122.390648</td>\n",
       "      <td>4608</td>\n",
       "      <td>Customer</td>\n",
       "      <td>1989.0</td>\n",
       "      <td>Female</td>\n",
       "      <td>No</td>\n",
       "      <td>30.0</td>\n",
       "    </tr>\n",
       "    <tr>\n",
       "      <th>85109</th>\n",
       "      <td>162</td>\n",
       "      <td>2019-02-17 16:06:15.019</td>\n",
       "      <td>2019-02-17 16:08:57.157</td>\n",
       "      <td>85.0</td>\n",
       "      <td>Church St at Duboce Ave</td>\n",
       "      <td>37.770083</td>\n",
       "      <td>-122.429156</td>\n",
       "      <td>72.0</td>\n",
       "      <td>Page St at Scott St</td>\n",
       "      <td>37.772406</td>\n",
       "      <td>-122.435650</td>\n",
       "      <td>4335</td>\n",
       "      <td>Subscriber</td>\n",
       "      <td>1931.0</td>\n",
       "      <td>Male</td>\n",
       "      <td>No</td>\n",
       "      <td>88.0</td>\n",
       "    </tr>\n",
       "    <tr>\n",
       "      <th>44683</th>\n",
       "      <td>149</td>\n",
       "      <td>2019-02-22 14:11:37.126</td>\n",
       "      <td>2019-02-22 14:14:06.309</td>\n",
       "      <td>243.0</td>\n",
       "      <td>Bancroft Way at College Ave</td>\n",
       "      <td>37.869360</td>\n",
       "      <td>-122.254337</td>\n",
       "      <td>239.0</td>\n",
       "      <td>Bancroft Way at Telegraph Ave</td>\n",
       "      <td>37.868813</td>\n",
       "      <td>-122.258764</td>\n",
       "      <td>5123</td>\n",
       "      <td>Subscriber</td>\n",
       "      <td>1997.0</td>\n",
       "      <td>Male</td>\n",
       "      <td>No</td>\n",
       "      <td>22.0</td>\n",
       "    </tr>\n",
       "    <tr>\n",
       "      <th>5650</th>\n",
       "      <td>1302</td>\n",
       "      <td>2019-02-28 12:19:36.881</td>\n",
       "      <td>2019-02-28 12:41:19.856</td>\n",
       "      <td>49.0</td>\n",
       "      <td>S Park St at 3rd St</td>\n",
       "      <td>37.780760</td>\n",
       "      <td>-122.394989</td>\n",
       "      <td>285.0</td>\n",
       "      <td>Webster St at O'Farrell St</td>\n",
       "      <td>37.783521</td>\n",
       "      <td>-122.431158</td>\n",
       "      <td>5348</td>\n",
       "      <td>Subscriber</td>\n",
       "      <td>1991.0</td>\n",
       "      <td>Male</td>\n",
       "      <td>No</td>\n",
       "      <td>28.0</td>\n",
       "    </tr>\n",
       "    <tr>\n",
       "      <th>68944</th>\n",
       "      <td>797</td>\n",
       "      <td>2019-02-19 20:33:46.856</td>\n",
       "      <td>2019-02-19 20:47:04.819</td>\n",
       "      <td>16.0</td>\n",
       "      <td>Steuart St at Market St</td>\n",
       "      <td>37.794130</td>\n",
       "      <td>-122.394430</td>\n",
       "      <td>323.0</td>\n",
       "      <td>Broadway at Kearny</td>\n",
       "      <td>37.798014</td>\n",
       "      <td>-122.405950</td>\n",
       "      <td>6636</td>\n",
       "      <td>Subscriber</td>\n",
       "      <td>1988.0</td>\n",
       "      <td>Male</td>\n",
       "      <td>No</td>\n",
       "      <td>31.0</td>\n",
       "    </tr>\n",
       "  </tbody>\n",
       "</table>\n",
       "</div>"
      ],
      "text/plain": [
       "       duration_sec              start_time                end_time  \\\n",
       "51895          1109 2019-02-21 17:30:11.168 2019-02-21 17:48:40.839   \n",
       "85109           162 2019-02-17 16:06:15.019 2019-02-17 16:08:57.157   \n",
       "44683           149 2019-02-22 14:11:37.126 2019-02-22 14:14:06.309   \n",
       "5650           1302 2019-02-28 12:19:36.881 2019-02-28 12:41:19.856   \n",
       "68944           797 2019-02-19 20:33:46.856 2019-02-19 20:47:04.819   \n",
       "\n",
       "      start_station_id                                 start_station_name  \\\n",
       "51895             15.0  San Francisco Ferry Building (Harry Bridges Pl...   \n",
       "85109             85.0                            Church St at Duboce Ave   \n",
       "44683            243.0                        Bancroft Way at College Ave   \n",
       "5650              49.0                                S Park St at 3rd St   \n",
       "68944             16.0                            Steuart St at Market St   \n",
       "\n",
       "       start_station_latitude  start_station_longitude end_station_id  \\\n",
       "51895               37.795392              -122.394203          126.0   \n",
       "85109               37.770083              -122.429156           72.0   \n",
       "44683               37.869360              -122.254337          239.0   \n",
       "5650                37.780760              -122.394989          285.0   \n",
       "68944               37.794130              -122.394430          323.0   \n",
       "\n",
       "                    end_station_name  end_station_latitude  \\\n",
       "51895                    Esprit Park             37.761634   \n",
       "85109            Page St at Scott St             37.772406   \n",
       "44683  Bancroft Way at Telegraph Ave             37.868813   \n",
       "5650      Webster St at O'Farrell St             37.783521   \n",
       "68944             Broadway at Kearny             37.798014   \n",
       "\n",
       "       end_station_longitude bike_id   user_type  member_birth_year  \\\n",
       "51895            -122.390648    4608    Customer             1989.0   \n",
       "85109            -122.435650    4335  Subscriber             1931.0   \n",
       "44683            -122.258764    5123  Subscriber             1997.0   \n",
       "5650             -122.431158    5348  Subscriber             1991.0   \n",
       "68944            -122.405950    6636  Subscriber             1988.0   \n",
       "\n",
       "      member_gender bike_share_for_all_trip  member_age  \n",
       "51895        Female                      No        30.0  \n",
       "85109          Male                      No        88.0  \n",
       "44683          Male                      No        22.0  \n",
       "5650           Male                      No        28.0  \n",
       "68944          Male                      No        31.0  "
      ]
     },
     "execution_count": 17,
     "metadata": {},
     "output_type": "execute_result"
    }
   ],
   "source": [
    "bike_clean.sample(5)"
   ]
  },
  {
   "cell_type": "code",
   "execution_count": 18,
   "metadata": {
    "scrolled": true
   },
   "outputs": [
    {
     "data": {
      "text/plain": [
       "count    175147.000000\n",
       "mean         34.193563\n",
       "std          10.116689\n",
       "min          18.000000\n",
       "25%          27.000000\n",
       "50%          32.000000\n",
       "75%          39.000000\n",
       "max         141.000000\n",
       "Name: member_age, dtype: float64"
      ]
     },
     "execution_count": 18,
     "metadata": {},
     "output_type": "execute_result"
    }
   ],
   "source": [
    "bike_clean.member_age.describe()"
   ]
  },
  {
   "cell_type": "code",
   "execution_count": 19,
   "metadata": {
    "scrolled": true
   },
   "outputs": [
    {
     "data": {
      "image/png": "[encoded data removed]",
      "text/plain": [
       "<Figure size 432x288 with 1 Axes>"
      ]
     },
     "metadata": {
      "needs_background": "light"
     },
     "output_type": "display_data"
    }
   ],
   "source": [
    "bins = np.arange(0, bike_clean.member_age.max()+5, 5)\n",
    "plt.hist(data = bike_clean, x = 'member_age', bins = bins);"
   ]
  },
  {
   "cell_type": "code",
   "execution_count": 20,
   "metadata": {
    "scrolled": true
   },
   "outputs": [
    {
     "data": {
      "text/plain": [
       "67.0     189\n",
       "68.0     180\n",
       "69.0     178\n",
       "66.0     158\n",
       "72.0     135\n",
       "74.0     105\n",
       "70.0      99\n",
       "88.0      89\n",
       "119.0     53\n",
       "71.0      51\n",
       "76.0      30\n",
       "77.0      21\n",
       "86.0      20\n",
       "73.0      19\n",
       "80.0      11\n",
       "117.0     11\n",
       "78.0       9\n",
       "118.0      6\n",
       "99.0       3\n",
       "81.0       3\n",
       "75.0       2\n",
       "85.0       2\n",
       "91.0       1\n",
       "89.0       1\n",
       "92.0       1\n",
       "109.0      1\n",
       "141.0      1\n",
       "Name: member_age, dtype: int64"
      ]
     },
     "execution_count": 20,
     "metadata": {},
     "output_type": "execute_result"
    }
   ],
   "source": [
    "bike_clean[bike_clean.member_age > 65].member_age.value_counts()"
   ]
  },
  {
   "cell_type": "markdown",
   "metadata": {},
   "source": [
    "**Outliers in member_age**\n",
    "\n",
    "##### Define\n",
    "Remove rows where member_age > 70. This is the age I arbitratrily chose from manually looking at member_age value counts. By querying those rows, the ones with null values in member_age will also be filtered out. Convert member_birth_year and member_age to int.\n",
    "\n",
    "##### Code"
   ]
  },
  {
   "cell_type": "code",
   "execution_count": 21,
   "metadata": {},
   "outputs": [],
   "source": [
    "bike_clean = bike_clean.query('member_age <= 70')\n",
    "bike_clean.member_birth_year = bike_clean.member_birth_year.astype(int)\n",
    "bike_clean.member_age = bike_clean.member_age.astype(int)"
   ]
  },
  {
   "cell_type": "markdown",
   "metadata": {},
   "source": [
    "##### Test"
   ]
  },
  {
   "cell_type": "code",
   "execution_count": 22,
   "metadata": {
    "scrolled": true
   },
   "outputs": [
    {
     "name": "stdout",
     "output_type": "stream",
     "text": [
      "<class 'pandas.core.frame.DataFrame'>\n",
      "Int64Index: 174572 entries, 0 to 183411\n",
      "Data columns (total 17 columns):\n",
      " #   Column                   Non-Null Count   Dtype         \n",
      "---  ------                   --------------   -----         \n",
      " 0   duration_sec             174572 non-null  int64         \n",
      " 1   start_time               174572 non-null  datetime64[ns]\n",
      " 2   end_time                 174572 non-null  datetime64[ns]\n",
      " 3   start_station_id         174572 non-null  object        \n",
      " 4   start_station_name       174377 non-null  object        \n",
      " 5   start_station_latitude   174572 non-null  float64       \n",
      " 6   start_station_longitude  174572 non-null  float64       \n",
      " 7   end_station_id           174572 non-null  object        \n",
      " 8   end_station_name         174377 non-null  object        \n",
      " 9   end_station_latitude     174572 non-null  float64       \n",
      " 10  end_station_longitude    174572 non-null  float64       \n",
      " 11  bike_id                  174572 non-null  object        \n",
      " 12  user_type                174572 non-null  category      \n",
      " 13  member_birth_year        174572 non-null  int64         \n",
      " 14  member_gender            174572 non-null  category      \n",
      " 15  bike_share_for_all_trip  174572 non-null  category      \n",
      " 16  member_age               174572 non-null  int64         \n",
      "dtypes: category(3), datetime64[ns](2), float64(4), int64(3), object(5)\n",
      "memory usage: 20.5+ MB\n"
     ]
    }
   ],
   "source": [
    "bike_clean.info()"
   ]
  },
  {
   "cell_type": "code",
   "execution_count": 23,
   "metadata": {},
   "outputs": [
    {
     "data": {
      "text/plain": [
       "count    174572.000000\n",
       "mean         34.035739\n",
       "std           9.712795\n",
       "min          18.000000\n",
       "25%          27.000000\n",
       "50%          32.000000\n",
       "75%          39.000000\n",
       "max          70.000000\n",
       "Name: member_age, dtype: float64"
      ]
     },
     "execution_count": 23,
     "metadata": {},
     "output_type": "execute_result"
    }
   ],
   "source": [
    "bike_clean.member_age.describe()"
   ]
  },
  {
   "cell_type": "markdown",
   "metadata": {},
   "source": [
    "**duration_min column from duration_sec**\n",
    "\n",
    "##### Define\n",
    "Divide duration_sec by 60. Create a new column duration_min with the extracted values.\n",
    "\n",
    "##### Code"
   ]
  },
  {
   "cell_type": "code",
   "execution_count": 24,
   "metadata": {},
   "outputs": [],
   "source": [
    "bike_clean['duration_min'] = round(bike_clean['duration_sec'] / 60, 1)"
   ]
  },
  {
   "cell_type": "markdown",
   "metadata": {},
   "source": [
    "##### Test"
   ]
  },
  {
   "cell_type": "code",
   "execution_count": 25,
   "metadata": {
    "scrolled": true
   },
   "outputs": [
    {
     "data": {
      "text/html": [
       "<div>\n",
       "<style scoped>\n",
       "    .dataframe tbody tr th:only-of-type {\n",
       "        vertical-align: middle;\n",
       "    }\n",
       "\n",
       "    .dataframe tbody tr th {\n",
       "        vertical-align: top;\n",
       "    }\n",
       "\n",
       "    .dataframe thead th {\n",
       "        text-align: right;\n",
       "    }\n",
       "</style>\n",
       "<table border=\"1\" class=\"dataframe\">\n",
       "  <thead>\n",
       "    <tr style=\"text-align: right;\">\n",
       "      <th></th>\n",
       "      <th>duration_sec</th>\n",
       "      <th>start_time</th>\n",
       "      <th>end_time</th>\n",
       "      <th>start_station_id</th>\n",
       "      <th>start_station_name</th>\n",
       "      <th>start_station_latitude</th>\n",
       "      <th>start_station_longitude</th>\n",
       "      <th>end_station_id</th>\n",
       "      <th>end_station_name</th>\n",
       "      <th>end_station_latitude</th>\n",
       "      <th>end_station_longitude</th>\n",
       "      <th>bike_id</th>\n",
       "      <th>user_type</th>\n",
       "      <th>member_birth_year</th>\n",
       "      <th>member_gender</th>\n",
       "      <th>bike_share_for_all_trip</th>\n",
       "      <th>member_age</th>\n",
       "      <th>duration_min</th>\n",
       "    </tr>\n",
       "  </thead>\n",
       "  <tbody>\n",
       "    <tr>\n",
       "      <th>125818</th>\n",
       "      <td>523</td>\n",
       "      <td>2019-02-11 05:25:52.263</td>\n",
       "      <td>2019-02-11 05:34:35.951</td>\n",
       "      <td>183.0</td>\n",
       "      <td>Telegraph Ave at 19th St</td>\n",
       "      <td>37.808702</td>\n",
       "      <td>-122.269927</td>\n",
       "      <td>148.0</td>\n",
       "      <td>Horton St at 40th St</td>\n",
       "      <td>37.829705</td>\n",
       "      <td>-122.287610</td>\n",
       "      <td>5210</td>\n",
       "      <td>Subscriber</td>\n",
       "      <td>1964</td>\n",
       "      <td>Male</td>\n",
       "      <td>No</td>\n",
       "      <td>55</td>\n",
       "      <td>8.7</td>\n",
       "    </tr>\n",
       "    <tr>\n",
       "      <th>89229</th>\n",
       "      <td>221</td>\n",
       "      <td>2019-02-16 16:07:05.841</td>\n",
       "      <td>2019-02-16 16:10:47.067</td>\n",
       "      <td>27.0</td>\n",
       "      <td>Beale St at Harrison St</td>\n",
       "      <td>37.788059</td>\n",
       "      <td>-122.391865</td>\n",
       "      <td>50.0</td>\n",
       "      <td>2nd St at Townsend St</td>\n",
       "      <td>37.780526</td>\n",
       "      <td>-122.390288</td>\n",
       "      <td>5565</td>\n",
       "      <td>Subscriber</td>\n",
       "      <td>1994</td>\n",
       "      <td>Female</td>\n",
       "      <td>No</td>\n",
       "      <td>25</td>\n",
       "      <td>3.7</td>\n",
       "    </tr>\n",
       "    <tr>\n",
       "      <th>77902</th>\n",
       "      <td>258</td>\n",
       "      <td>2019-02-18 22:20:50.082</td>\n",
       "      <td>2019-02-18 22:25:09.051</td>\n",
       "      <td>247.0</td>\n",
       "      <td>Fulton St at Bancroft Way</td>\n",
       "      <td>37.867789</td>\n",
       "      <td>-122.265896</td>\n",
       "      <td>269.0</td>\n",
       "      <td>Telegraph Ave at Carleton St</td>\n",
       "      <td>37.862320</td>\n",
       "      <td>-122.258801</td>\n",
       "      <td>5194</td>\n",
       "      <td>Subscriber</td>\n",
       "      <td>1998</td>\n",
       "      <td>Male</td>\n",
       "      <td>No</td>\n",
       "      <td>21</td>\n",
       "      <td>4.3</td>\n",
       "    </tr>\n",
       "    <tr>\n",
       "      <th>171937</th>\n",
       "      <td>457</td>\n",
       "      <td>2019-02-03 18:07:28.267</td>\n",
       "      <td>2019-02-03 18:15:05.314</td>\n",
       "      <td>171.0</td>\n",
       "      <td>Rockridge BART Station</td>\n",
       "      <td>37.844279</td>\n",
       "      <td>-122.251900</td>\n",
       "      <td>248.0</td>\n",
       "      <td>Telegraph Ave at Ashby Ave</td>\n",
       "      <td>37.855956</td>\n",
       "      <td>-122.259795</td>\n",
       "      <td>4552</td>\n",
       "      <td>Subscriber</td>\n",
       "      <td>1977</td>\n",
       "      <td>Female</td>\n",
       "      <td>Yes</td>\n",
       "      <td>42</td>\n",
       "      <td>7.6</td>\n",
       "    </tr>\n",
       "    <tr>\n",
       "      <th>45397</th>\n",
       "      <td>182</td>\n",
       "      <td>2019-02-22 12:24:28.490</td>\n",
       "      <td>2019-02-22 12:27:30.542</td>\n",
       "      <td>276.0</td>\n",
       "      <td>Julian St at The Alameda</td>\n",
       "      <td>37.332233</td>\n",
       "      <td>-121.912517</td>\n",
       "      <td>278.0</td>\n",
       "      <td>The Alameda at Bush St</td>\n",
       "      <td>37.331932</td>\n",
       "      <td>-121.904888</td>\n",
       "      <td>6626</td>\n",
       "      <td>Subscriber</td>\n",
       "      <td>1993</td>\n",
       "      <td>Male</td>\n",
       "      <td>Yes</td>\n",
       "      <td>26</td>\n",
       "      <td>3.0</td>\n",
       "    </tr>\n",
       "  </tbody>\n",
       "</table>\n",
       "</div>"
      ],
      "text/plain": [
       "        duration_sec              start_time                end_time  \\\n",
       "125818           523 2019-02-11 05:25:52.263 2019-02-11 05:34:35.951   \n",
       "89229            221 2019-02-16 16:07:05.841 2019-02-16 16:10:47.067   \n",
       "77902            258 2019-02-18 22:20:50.082 2019-02-18 22:25:09.051   \n",
       "171937           457 2019-02-03 18:07:28.267 2019-02-03 18:15:05.314   \n",
       "45397            182 2019-02-22 12:24:28.490 2019-02-22 12:27:30.542   \n",
       "\n",
       "       start_station_id         start_station_name  start_station_latitude  \\\n",
       "125818            183.0   Telegraph Ave at 19th St               37.808702   \n",
       "89229              27.0    Beale St at Harrison St               37.788059   \n",
       "77902             247.0  Fulton St at Bancroft Way               37.867789   \n",
       "171937            171.0     Rockridge BART Station               37.844279   \n",
       "45397             276.0   Julian St at The Alameda               37.332233   \n",
       "\n",
       "        start_station_longitude end_station_id              end_station_name  \\\n",
       "125818              -122.269927          148.0          Horton St at 40th St   \n",
       "89229               -122.391865           50.0         2nd St at Townsend St   \n",
       "77902               -122.265896          269.0  Telegraph Ave at Carleton St   \n",
       "171937              -122.251900          248.0    Telegraph Ave at Ashby Ave   \n",
       "45397               -121.912517          278.0        The Alameda at Bush St   \n",
       "\n",
       "        end_station_latitude  end_station_longitude bike_id   user_type  \\\n",
       "125818             37.829705            -122.287610    5210  Subscriber   \n",
       "89229              37.780526            -122.390288    5565  Subscriber   \n",
       "77902              37.862320            -122.258801    5194  Subscriber   \n",
       "171937             37.855956            -122.259795    4552  Subscriber   \n",
       "45397              37.331932            -121.904888    6626  Subscriber   \n",
       "\n",
       "        member_birth_year member_gender bike_share_for_all_trip  member_age  \\\n",
       "125818               1964          Male                      No          55   \n",
       "89229                1994        Female                      No          25   \n",
       "77902                1998          Male                      No          21   \n",
       "171937               1977        Female                     Yes          42   \n",
       "45397                1993          Male                     Yes          26   \n",
       "\n",
       "        duration_min  \n",
       "125818           8.7  \n",
       "89229            3.7  \n",
       "77902            4.3  \n",
       "171937           7.6  \n",
       "45397            3.0  "
      ]
     },
     "execution_count": 25,
     "metadata": {},
     "output_type": "execute_result"
    }
   ],
   "source": [
    "bike_clean.sample(5)"
   ]
  },
  {
   "cell_type": "markdown",
   "metadata": {},
   "source": [
    "**additional columns from start_time**\n",
    "\n",
    "##### Define \n",
    "Create new columns start_date, start_day, and start_hour using pandas.Series.dt. These columns may be useful for exploring time-related trends.  \n",
    "\n",
    "##### Code"
   ]
  },
  {
   "cell_type": "code",
   "execution_count": 26,
   "metadata": {},
   "outputs": [],
   "source": [
    "bike_clean['start_date'] = bike_clean['start_time'].dt.date\n",
    "bike_clean['start_day'] = bike_clean['start_time'].dt.day_name()\n",
    "bike_clean['start_hour'] = bike_clean['start_time'].dt.hour"
   ]
  },
  {
   "cell_type": "markdown",
   "metadata": {},
   "source": [
    "##### Test"
   ]
  },
  {
   "cell_type": "code",
   "execution_count": 27,
   "metadata": {},
   "outputs": [
    {
     "data": {
      "text/html": [
       "<div>\n",
       "<style scoped>\n",
       "    .dataframe tbody tr th:only-of-type {\n",
       "        vertical-align: middle;\n",
       "    }\n",
       "\n",
       "    .dataframe tbody tr th {\n",
       "        vertical-align: top;\n",
       "    }\n",
       "\n",
       "    .dataframe thead th {\n",
       "        text-align: right;\n",
       "    }\n",
       "</style>\n",
       "<table border=\"1\" class=\"dataframe\">\n",
       "  <thead>\n",
       "    <tr style=\"text-align: right;\">\n",
       "      <th></th>\n",
       "      <th>start_time</th>\n",
       "      <th>start_date</th>\n",
       "      <th>start_day</th>\n",
       "      <th>start_hour</th>\n",
       "    </tr>\n",
       "  </thead>\n",
       "  <tbody>\n",
       "    <tr>\n",
       "      <th>156491</th>\n",
       "      <td>2019-02-06 07:47:59.735</td>\n",
       "      <td>2019-02-06</td>\n",
       "      <td>Wednesday</td>\n",
       "      <td>7</td>\n",
       "    </tr>\n",
       "    <tr>\n",
       "      <th>39823</th>\n",
       "      <td>2019-02-23 01:31:52.935</td>\n",
       "      <td>2019-02-23</td>\n",
       "      <td>Saturday</td>\n",
       "      <td>1</td>\n",
       "    </tr>\n",
       "    <tr>\n",
       "      <th>98908</th>\n",
       "      <td>2019-02-15 02:01:34.907</td>\n",
       "      <td>2019-02-15</td>\n",
       "      <td>Friday</td>\n",
       "      <td>2</td>\n",
       "    </tr>\n",
       "    <tr>\n",
       "      <th>40390</th>\n",
       "      <td>2019-02-22 20:57:49.266</td>\n",
       "      <td>2019-02-22</td>\n",
       "      <td>Friday</td>\n",
       "      <td>20</td>\n",
       "    </tr>\n",
       "    <tr>\n",
       "      <th>131923</th>\n",
       "      <td>2019-02-09 10:26:41.902</td>\n",
       "      <td>2019-02-09</td>\n",
       "      <td>Saturday</td>\n",
       "      <td>10</td>\n",
       "    </tr>\n",
       "    <tr>\n",
       "      <th>159078</th>\n",
       "      <td>2019-02-05 18:23:54.471</td>\n",
       "      <td>2019-02-05</td>\n",
       "      <td>Tuesday</td>\n",
       "      <td>18</td>\n",
       "    </tr>\n",
       "    <tr>\n",
       "      <th>137427</th>\n",
       "      <td>2019-02-08 08:40:56.655</td>\n",
       "      <td>2019-02-08</td>\n",
       "      <td>Friday</td>\n",
       "      <td>8</td>\n",
       "    </tr>\n",
       "    <tr>\n",
       "      <th>145280</th>\n",
       "      <td>2019-02-07 09:54:25.574</td>\n",
       "      <td>2019-02-07</td>\n",
       "      <td>Thursday</td>\n",
       "      <td>9</td>\n",
       "    </tr>\n",
       "    <tr>\n",
       "      <th>11623</th>\n",
       "      <td>2019-02-27 18:22:03.362</td>\n",
       "      <td>2019-02-27</td>\n",
       "      <td>Wednesday</td>\n",
       "      <td>18</td>\n",
       "    </tr>\n",
       "    <tr>\n",
       "      <th>29213</th>\n",
       "      <td>2019-02-25 07:38:36.225</td>\n",
       "      <td>2019-02-25</td>\n",
       "      <td>Monday</td>\n",
       "      <td>7</td>\n",
       "    </tr>\n",
       "  </tbody>\n",
       "</table>\n",
       "</div>"
      ],
      "text/plain": [
       "                    start_time  start_date  start_day  start_hour\n",
       "156491 2019-02-06 07:47:59.735  2019-02-06  Wednesday           7\n",
       "39823  2019-02-23 01:31:52.935  2019-02-23   Saturday           1\n",
       "98908  2019-02-15 02:01:34.907  2019-02-15     Friday           2\n",
       "40390  2019-02-22 20:57:49.266  2019-02-22     Friday          20\n",
       "131923 2019-02-09 10:26:41.902  2019-02-09   Saturday          10\n",
       "159078 2019-02-05 18:23:54.471  2019-02-05    Tuesday          18\n",
       "137427 2019-02-08 08:40:56.655  2019-02-08     Friday           8\n",
       "145280 2019-02-07 09:54:25.574  2019-02-07   Thursday           9\n",
       "11623  2019-02-27 18:22:03.362  2019-02-27  Wednesday          18\n",
       "29213  2019-02-25 07:38:36.225  2019-02-25     Monday           7"
      ]
     },
     "execution_count": 27,
     "metadata": {},
     "output_type": "execute_result"
    }
   ],
   "source": [
    "bike_clean[['start_time', 'start_date', 'start_day', 'start_hour']].sample(10)"
   ]
  },
  {
   "cell_type": "markdown",
   "metadata": {},
   "source": [
    "**Reorder columns**"
   ]
  },
  {
   "cell_type": "code",
   "execution_count": 28,
   "metadata": {},
   "outputs": [
    {
     "data": {
      "text/plain": [
       "Index(['duration_sec', 'start_time', 'end_time', 'start_station_id',\n",
       "       'start_station_name', 'start_station_latitude',\n",
       "       'start_station_longitude', 'end_station_id', 'end_station_name',\n",
       "       'end_station_latitude', 'end_station_longitude', 'bike_id', 'user_type',\n",
       "       'member_birth_year', 'member_gender', 'bike_share_for_all_trip',\n",
       "       'member_age', 'duration_min', 'start_date', 'start_day', 'start_hour'],\n",
       "      dtype='object')"
      ]
     },
     "execution_count": 28,
     "metadata": {},
     "output_type": "execute_result"
    }
   ],
   "source": [
    "bike_clean.columns"
   ]
  },
  {
   "cell_type": "code",
   "execution_count": 29,
   "metadata": {},
   "outputs": [],
   "source": [
    "bike_clean = bike_clean[['duration_sec', 'duration_min', 'start_time', 'end_time', \n",
    "                         'start_date', 'start_day', 'start_hour', \n",
    "                         'start_station_id', 'start_station_name', 'start_station_latitude',\n",
    "                         'start_station_longitude', 'end_station_id', 'end_station_name',\n",
    "                         'end_station_latitude', 'end_station_longitude', 'bike_id', 'user_type',\n",
    "                         'member_birth_year', 'member_age', 'member_gender', 'bike_share_for_all_trip']]"
   ]
  },
  {
   "cell_type": "markdown",
   "metadata": {},
   "source": [
    "**Finalize dataset for exploration**"
   ]
  },
  {
   "cell_type": "code",
   "execution_count": 30,
   "metadata": {
    "scrolled": false
   },
   "outputs": [
    {
     "data": {
      "text/html": [
       "<div>\n",
       "<style scoped>\n",
       "    .dataframe tbody tr th:only-of-type {\n",
       "        vertical-align: middle;\n",
       "    }\n",
       "\n",
       "    .dataframe tbody tr th {\n",
       "        vertical-align: top;\n",
       "    }\n",
       "\n",
       "    .dataframe thead th {\n",
       "        text-align: right;\n",
       "    }\n",
       "</style>\n",
       "<table border=\"1\" class=\"dataframe\">\n",
       "  <thead>\n",
       "    <tr style=\"text-align: right;\">\n",
       "      <th></th>\n",
       "      <th>duration_sec</th>\n",
       "      <th>duration_min</th>\n",
       "      <th>start_time</th>\n",
       "      <th>end_time</th>\n",
       "      <th>start_date</th>\n",
       "      <th>start_day</th>\n",
       "      <th>start_hour</th>\n",
       "      <th>start_station_id</th>\n",
       "      <th>start_station_name</th>\n",
       "      <th>start_station_latitude</th>\n",
       "      <th>...</th>\n",
       "      <th>end_station_id</th>\n",
       "      <th>end_station_name</th>\n",
       "      <th>end_station_latitude</th>\n",
       "      <th>end_station_longitude</th>\n",
       "      <th>bike_id</th>\n",
       "      <th>user_type</th>\n",
       "      <th>member_birth_year</th>\n",
       "      <th>member_age</th>\n",
       "      <th>member_gender</th>\n",
       "      <th>bike_share_for_all_trip</th>\n",
       "    </tr>\n",
       "  </thead>\n",
       "  <tbody>\n",
       "    <tr>\n",
       "      <th>0</th>\n",
       "      <td>52185</td>\n",
       "      <td>869.8</td>\n",
       "      <td>2019-02-28 17:32:10.145</td>\n",
       "      <td>2019-03-01 08:01:55.975</td>\n",
       "      <td>2019-02-28</td>\n",
       "      <td>Thursday</td>\n",
       "      <td>17</td>\n",
       "      <td>21.0</td>\n",
       "      <td>Montgomery St BART Station (Market St at 2nd St)</td>\n",
       "      <td>37.789625</td>\n",
       "      <td>...</td>\n",
       "      <td>13.0</td>\n",
       "      <td>Commercial St at Montgomery St</td>\n",
       "      <td>37.794231</td>\n",
       "      <td>-122.402923</td>\n",
       "      <td>4902</td>\n",
       "      <td>Customer</td>\n",
       "      <td>1984</td>\n",
       "      <td>35</td>\n",
       "      <td>Male</td>\n",
       "      <td>No</td>\n",
       "    </tr>\n",
       "    <tr>\n",
       "      <th>2</th>\n",
       "      <td>61854</td>\n",
       "      <td>1030.9</td>\n",
       "      <td>2019-02-28 12:13:13.218</td>\n",
       "      <td>2019-03-01 05:24:08.146</td>\n",
       "      <td>2019-02-28</td>\n",
       "      <td>Thursday</td>\n",
       "      <td>12</td>\n",
       "      <td>86.0</td>\n",
       "      <td>Market St at Dolores St</td>\n",
       "      <td>37.769305</td>\n",
       "      <td>...</td>\n",
       "      <td>3.0</td>\n",
       "      <td>Powell St BART Station (Market St at 4th St)</td>\n",
       "      <td>37.786375</td>\n",
       "      <td>-122.404904</td>\n",
       "      <td>5905</td>\n",
       "      <td>Customer</td>\n",
       "      <td>1972</td>\n",
       "      <td>47</td>\n",
       "      <td>Male</td>\n",
       "      <td>No</td>\n",
       "    </tr>\n",
       "    <tr>\n",
       "      <th>3</th>\n",
       "      <td>36490</td>\n",
       "      <td>608.2</td>\n",
       "      <td>2019-02-28 17:54:26.010</td>\n",
       "      <td>2019-03-01 04:02:36.842</td>\n",
       "      <td>2019-02-28</td>\n",
       "      <td>Thursday</td>\n",
       "      <td>17</td>\n",
       "      <td>375.0</td>\n",
       "      <td>Grove St at Masonic Ave</td>\n",
       "      <td>37.774836</td>\n",
       "      <td>...</td>\n",
       "      <td>70.0</td>\n",
       "      <td>Central Ave at Fell St</td>\n",
       "      <td>37.773311</td>\n",
       "      <td>-122.444293</td>\n",
       "      <td>6638</td>\n",
       "      <td>Subscriber</td>\n",
       "      <td>1989</td>\n",
       "      <td>30</td>\n",
       "      <td>Other</td>\n",
       "      <td>No</td>\n",
       "    </tr>\n",
       "    <tr>\n",
       "      <th>4</th>\n",
       "      <td>1585</td>\n",
       "      <td>26.4</td>\n",
       "      <td>2019-02-28 23:54:18.549</td>\n",
       "      <td>2019-03-01 00:20:44.074</td>\n",
       "      <td>2019-02-28</td>\n",
       "      <td>Thursday</td>\n",
       "      <td>23</td>\n",
       "      <td>7.0</td>\n",
       "      <td>Frank H Ogawa Plaza</td>\n",
       "      <td>37.804562</td>\n",
       "      <td>...</td>\n",
       "      <td>222.0</td>\n",
       "      <td>10th Ave at E 15th St</td>\n",
       "      <td>37.792714</td>\n",
       "      <td>-122.248780</td>\n",
       "      <td>4898</td>\n",
       "      <td>Subscriber</td>\n",
       "      <td>1974</td>\n",
       "      <td>45</td>\n",
       "      <td>Male</td>\n",
       "      <td>Yes</td>\n",
       "    </tr>\n",
       "    <tr>\n",
       "      <th>5</th>\n",
       "      <td>1793</td>\n",
       "      <td>29.9</td>\n",
       "      <td>2019-02-28 23:49:58.632</td>\n",
       "      <td>2019-03-01 00:19:51.760</td>\n",
       "      <td>2019-02-28</td>\n",
       "      <td>Thursday</td>\n",
       "      <td>23</td>\n",
       "      <td>93.0</td>\n",
       "      <td>4th St at Mission Bay Blvd S</td>\n",
       "      <td>37.770407</td>\n",
       "      <td>...</td>\n",
       "      <td>323.0</td>\n",
       "      <td>Broadway at Kearny</td>\n",
       "      <td>37.798014</td>\n",
       "      <td>-122.405950</td>\n",
       "      <td>5200</td>\n",
       "      <td>Subscriber</td>\n",
       "      <td>1959</td>\n",
       "      <td>60</td>\n",
       "      <td>Male</td>\n",
       "      <td>No</td>\n",
       "    </tr>\n",
       "  </tbody>\n",
       "</table>\n",
       "<p>5 rows × 21 columns</p>\n",
       "</div>"
      ],
      "text/plain": [
       "   duration_sec  duration_min              start_time                end_time  \\\n",
       "0         52185         869.8 2019-02-28 17:32:10.145 2019-03-01 08:01:55.975   \n",
       "2         61854        1030.9 2019-02-28 12:13:13.218 2019-03-01 05:24:08.146   \n",
       "3         36490         608.2 2019-02-28 17:54:26.010 2019-03-01 04:02:36.842   \n",
       "4          1585          26.4 2019-02-28 23:54:18.549 2019-03-01 00:20:44.074   \n",
       "5          1793          29.9 2019-02-28 23:49:58.632 2019-03-01 00:19:51.760   \n",
       "\n",
       "   start_date start_day  start_hour start_station_id  \\\n",
       "0  2019-02-28  Thursday          17             21.0   \n",
       "2  2019-02-28  Thursday          12             86.0   \n",
       "3  2019-02-28  Thursday          17            375.0   \n",
       "4  2019-02-28  Thursday          23              7.0   \n",
       "5  2019-02-28  Thursday          23             93.0   \n",
       "\n",
       "                                 start_station_name  start_station_latitude  \\\n",
       "0  Montgomery St BART Station (Market St at 2nd St)               37.789625   \n",
       "2                           Market St at Dolores St               37.769305   \n",
       "3                           Grove St at Masonic Ave               37.774836   \n",
       "4                               Frank H Ogawa Plaza               37.804562   \n",
       "5                      4th St at Mission Bay Blvd S               37.770407   \n",
       "\n",
       "   ...  end_station_id                              end_station_name  \\\n",
       "0  ...            13.0                Commercial St at Montgomery St   \n",
       "2  ...             3.0  Powell St BART Station (Market St at 4th St)   \n",
       "3  ...            70.0                        Central Ave at Fell St   \n",
       "4  ...           222.0                         10th Ave at E 15th St   \n",
       "5  ...           323.0                            Broadway at Kearny   \n",
       "\n",
       "  end_station_latitude  end_station_longitude  bike_id   user_type  \\\n",
       "0            37.794231            -122.402923     4902    Customer   \n",
       "2            37.786375            -122.404904     5905    Customer   \n",
       "3            37.773311            -122.444293     6638  Subscriber   \n",
       "4            37.792714            -122.248780     4898  Subscriber   \n",
       "5            37.798014            -122.405950     5200  Subscriber   \n",
       "\n",
       "  member_birth_year  member_age  member_gender bike_share_for_all_trip  \n",
       "0              1984          35           Male                      No  \n",
       "2              1972          47           Male                      No  \n",
       "3              1989          30          Other                      No  \n",
       "4              1974          45           Male                     Yes  \n",
       "5              1959          60           Male                      No  \n",
       "\n",
       "[5 rows x 21 columns]"
      ]
     },
     "execution_count": 30,
     "metadata": {},
     "output_type": "execute_result"
    }
   ],
   "source": [
    "# final dataset\n",
    "bike = bike_clean.copy()\n",
    "bike.head()"
   ]
  },
  {
   "cell_type": "code",
   "execution_count": 31,
   "metadata": {
    "scrolled": true
   },
   "outputs": [
    {
     "name": "stdout",
     "output_type": "stream",
     "text": [
      "<class 'pandas.core.frame.DataFrame'>\n",
      "Int64Index: 174572 entries, 0 to 183411\n",
      "Data columns (total 21 columns):\n",
      " #   Column                   Non-Null Count   Dtype         \n",
      "---  ------                   --------------   -----         \n",
      " 0   duration_sec             174572 non-null  int64         \n",
      " 1   duration_min             174572 non-null  float64       \n",
      " 2   start_time               174572 non-null  datetime64[ns]\n",
      " 3   end_time                 174572 non-null  datetime64[ns]\n",
      " 4   start_date               174572 non-null  object        \n",
      " 5   start_day                174572 non-null  object        \n",
      " 6   start_hour               174572 non-null  int64         \n",
      " 7   start_station_id         174572 non-null  object        \n",
      " 8   start_station_name       174377 non-null  object        \n",
      " 9   start_station_latitude   174572 non-null  float64       \n",
      " 10  start_station_longitude  174572 non-null  float64       \n",
      " 11  end_station_id           174572 non-null  object        \n",
      " 12  end_station_name         174377 non-null  object        \n",
      " 13  end_station_latitude     174572 non-null  float64       \n",
      " 14  end_station_longitude    174572 non-null  float64       \n",
      " 15  bike_id                  174572 non-null  object        \n",
      " 16  user_type                174572 non-null  category      \n",
      " 17  member_birth_year        174572 non-null  int64         \n",
      " 18  member_age               174572 non-null  int64         \n",
      " 19  member_gender            174572 non-null  category      \n",
      " 20  bike_share_for_all_trip  174572 non-null  category      \n",
      "dtypes: category(3), datetime64[ns](2), float64(5), int64(4), object(7)\n",
      "memory usage: 25.8+ MB\n"
     ]
    }
   ],
   "source": [
    "bike.info()"
   ]
  },
  {
   "cell_type": "code",
   "execution_count": 32,
   "metadata": {},
   "outputs": [],
   "source": [
    "bike.to_csv('201902-fordgobike-tripdata-clean.csv', index = False)"
   ]
  },
  {
   "cell_type": "markdown",
   "metadata": {},
   "source": [
    "### What is the structure of your dataset?\n",
    "\n",
    "After wrangling the original dataset, the final dataset to be used for data exploration has 21 variables and more than 174,000 Ford GoBike individual trip records from February 2019.\n",
    "\n",
    "The dataset is structured in the listed general categories with their respective categories:\n",
    "- trip duration: `duration_sec`, `duration_min`\n",
    "- trip time: `start_time`, `end_time`, `start_day`, `start_hour`\n",
    "- start station info: `start_station_id`, `start_station_name`, `start_station_latitude`, `start_station_longitude`\n",
    "- end station info: `end_station_id`, `end_station_name`, `end_station_latitude`, `end_station_longitude`\n",
    "- member info: `bike_id`, `user_type`, `member_birth_year`, `member_age`, `member_gender`, `bike_share_for_all_trip`\n",
    "\n",
    "### What is/are the main feature(s) of interest in your dataset?\n",
    "\n",
    "I'm interested in exploring the impact of time. When are most trip taken in terms of time of day or day of week? How long does the average trip take? Analyzing such questions could help the business understand demand. Another feature I'm interested in exploring is member demographic, such as a member's age or whether or not the member is a customer or subscribe. Digging into this can help us find patterns among certain groups of customers and help us target the right ones for marketing purposes.\n",
    "\n",
    "### What features in the dataset do you think will help support your investigation into your feature(s) of interest?\n",
    "\n",
    "To explore how time trends, `duration_min`, `start_day`, and `start_hour` would be good variables to start with. To explore user information and/or member demographic, `user_type`, `member_age`, and `member_gender` would help with finding those group distributions."
   ]
  },
  {
   "cell_type": "markdown",
   "metadata": {},
   "source": [
    "## Univariate Exploration"
   ]
  },
  {
   "cell_type": "markdown",
   "metadata": {},
   "source": [
    "Since time trends are of interest, start off with exploring trip frequncy by day of week."
   ]
  },
  {
   "cell_type": "code",
   "execution_count": 33,
   "metadata": {},
   "outputs": [],
   "source": [
    "# Convert the start_day column from a plain object type into an ordered categorical type\n",
    "days_of_week = ['Monday', 'Tuesday', 'Wednesday', 'Thursday', 'Friday', 'Saturday', 'Sunday']\n",
    "ordered_days = pd.api.types.CategoricalDtype(ordered = True, categories = days_of_week)\n",
    "bike['start_day'] = bike['start_day'].astype(ordered_days)"
   ]
  },
  {
   "cell_type": "code",
   "execution_count": 34,
   "metadata": {},
   "outputs": [
    {
     "data": {
      "image/png": "[encoded data removed]",
      "text/plain": [
       "<Figure size 432x288 with 1 Axes>"
      ]
     },
     "metadata": {
      "needs_background": "light"
     },
     "output_type": "display_data"
    }
   ],
   "source": [
    "base_color = sb.color_palette()[0]\n",
    "\n",
    "# Count by Day of Week\n",
    "sb.countplot(data = bike, x = 'start_day', color = base_color)\n",
    "plt.xticks(rotation = 20)\n",
    "plt.title('Number of Bike Trips by Day of Week')\n",
    "plt.xlabel('Day of Week')\n",
    "plt.ylabel('Number of Bike Trips');"
   ]
  },
  {
   "cell_type": "markdown",
   "metadata": {},
   "source": [
    "Bikes are primarily used on the weekdays, and on Thursdays the most. There's a large dip in usage during the weekends. Perhaps this is because the bikes are used more for work than for leisure.\n",
    "\n",
    "Look at the distribution of hour next."
   ]
  },
  {
   "cell_type": "code",
   "execution_count": 35,
   "metadata": {},
   "outputs": [
    {
     "data": {
      "image/png": "[encoded data removed]",
      "text/plain": [
       "<Figure size 576x432 with 1 Axes>"
      ]
     },
     "metadata": {
      "needs_background": "light"
     },
     "output_type": "display_data"
    }
   ],
   "source": [
    "# Count by Hour of Day\n",
    "plt.figure(figsize = [8, 6])\n",
    "sb.countplot(data = bike, x = 'start_hour', color = base_color)\n",
    "plt.title('Number of Bike Trips by Hour of Day')\n",
    "plt.xlabel('Hour of Day')\n",
    "plt.ylabel('Number of Bike Trips');"
   ]
  },
  {
   "cell_type": "markdown",
   "metadata": {},
   "source": [
    "The distribution of bike rides by hour is bimodial. Seeing that the two peaks are at 8-9am and 5-6pm, this matches up with the previous guess that the bikes are most used during work commuting hours. \n",
    "\n",
    "After exploring these two distributions, dig a little deeper into trip duration."
   ]
  },
  {
   "cell_type": "code",
   "execution_count": 36,
   "metadata": {},
   "outputs": [
    {
     "data": {
      "image/png": "[encoded data removed]",
      "text/plain": [
       "<Figure size 432x288 with 1 Axes>"
      ]
     },
     "metadata": {
      "needs_background": "light"
     },
     "output_type": "display_data"
    }
   ],
   "source": [
    "# Distribution of Trip Duration (before outlier removal)\n",
    "plt.hist(data = bike, x = 'duration_min')\n",
    "plt.title('Number of Bike Trips by Trip Duration')\n",
    "plt.xlabel('Trip Duration (min)')\n",
    "plt.ylabel('Count');"
   ]
  },
  {
   "cell_type": "code",
   "execution_count": 37,
   "metadata": {
    "scrolled": false
   },
   "outputs": [
    {
     "data": {
      "text/plain": [
       "count    174572.000000\n",
       "mean         11.741066\n",
       "std          27.393543\n",
       "min           1.000000\n",
       "25%           5.400000\n",
       "50%           8.500000\n",
       "75%          13.200000\n",
       "max        1409.100000\n",
       "Name: duration_min, dtype: float64"
      ]
     },
     "execution_count": 37,
     "metadata": {},
     "output_type": "execute_result"
    }
   ],
   "source": [
    "bike.duration_min.describe()"
   ]
  },
  {
   "cell_type": "markdown",
   "metadata": {},
   "source": [
    "There seems to be a couple outliers for trip duration. Zoom in for a more representative picture of the distribution."
   ]
  },
  {
   "cell_type": "code",
   "execution_count": 38,
   "metadata": {},
   "outputs": [
    {
     "data": {
      "text/plain": [
       "count    174572.000000\n",
       "mean         11.741066\n",
       "std          27.393543\n",
       "min           1.000000\n",
       "50%           8.500000\n",
       "99%          52.929000\n",
       "max        1409.100000\n",
       "Name: duration_min, dtype: float64"
      ]
     },
     "execution_count": 38,
     "metadata": {},
     "output_type": "execute_result"
    }
   ],
   "source": [
    "bike.duration_min.describe(percentiles = [0.99])"
   ]
  },
  {
   "cell_type": "code",
   "execution_count": 39,
   "metadata": {},
   "outputs": [
    {
     "data": {
      "image/png": "[encoded data removed]",
      "text/plain": [
       "<Figure size 432x288 with 1 Axes>"
      ]
     },
     "metadata": {
      "needs_background": "light"
     },
     "output_type": "display_data"
    }
   ],
   "source": [
    "# Distribution of Trip Duration\n",
    "bins = np.arange(0, 55, 1)\n",
    "ticks = np.arange(0, 60, 5).tolist()\n",
    "labels = ['{}'.format(val) for val in ticks]\n",
    "\n",
    "plt.hist(data = bike, x = 'duration_min', bins = bins)\n",
    "plt.xticks(ticks, labels)\n",
    "plt.title('Number of Bike Trips by Trip Duration')\n",
    "plt.xlabel('Trip Duration (min)')\n",
    "plt.ylabel('Count');"
   ]
  },
  {
   "cell_type": "markdown",
   "metadata": {},
   "source": [
    "After removing the outliers from the histogram, there is a much clearer picture of trip duration. The shortest trip is about 1 min long, the average trip is about 12 min, and 75% of the trips are under 13 min. It's possible that the majority of these trips are work commutes, hence explaining the relatively short durations.\n",
    "\n",
    "Now that there's some base level understanding of these time variables, explore user demographic next."
   ]
  },
  {
   "cell_type": "code",
   "execution_count": 40,
   "metadata": {},
   "outputs": [
    {
     "data": {
      "image/png": "[encoded data removed]",
      "text/plain": [
       "<Figure size 432x288 with 1 Axes>"
      ]
     },
     "metadata": {
      "needs_background": "light"
     },
     "output_type": "display_data"
    }
   ],
   "source": [
    "# Distribution of Member Age\n",
    "bins = np.arange(0, bike.member_age.max()+5, 5)\n",
    "plt.hist(data = bike, x = 'member_age', bins = bins, rwidth = 0.9)\n",
    "plt.xticks(bins, bins)\n",
    "plt.title('Member Age')\n",
    "plt.xlabel('Member Age (year)')\n",
    "plt.ylabel('Number of Bike Trips');"
   ]
  },
  {
   "cell_type": "code",
   "execution_count": 41,
   "metadata": {},
   "outputs": [
    {
     "data": {
      "text/plain": [
       "count    174572.000000\n",
       "mean         34.035739\n",
       "std           9.712795\n",
       "min          18.000000\n",
       "25%          27.000000\n",
       "50%          32.000000\n",
       "75%          39.000000\n",
       "max          70.000000\n",
       "Name: member_age, dtype: float64"
      ]
     },
     "execution_count": 41,
     "metadata": {},
     "output_type": "execute_result"
    }
   ],
   "source": [
    "bike.member_age.describe()"
   ]
  },
  {
   "cell_type": "markdown",
   "metadata": {},
   "source": [
    "Most of the users fall in the age range of 25-40 years old, with the average at 34 years old. The youngest age is 18 years old, but that may be because of some age requirement to use the bikeshare. \n",
    "\n",
    "Now consider gender."
   ]
  },
  {
   "cell_type": "code",
   "execution_count": 42,
   "metadata": {},
   "outputs": [
    {
     "data": {
      "text/plain": [
       "Male      130176\n",
       "Female     40772\n",
       "Other       3624\n",
       "Name: member_gender, dtype: int64"
      ]
     },
     "execution_count": 42,
     "metadata": {},
     "output_type": "execute_result"
    }
   ],
   "source": [
    "gender = bike.member_gender.value_counts()\n",
    "gender"
   ]
  },
  {
   "cell_type": "code",
   "execution_count": 43,
   "metadata": {},
   "outputs": [
    {
     "data": {
      "image/png": "[encoded data removed]",
      "text/plain": [
       "<Figure size 432x288 with 1 Axes>"
      ]
     },
     "metadata": {},
     "output_type": "display_data"
    }
   ],
   "source": [
    "# Relative Frequency by Member Gender\n",
    "plt.pie(gender, labels = gender.index, startangle = 90, autopct = '%1.1f%%', \n",
    "        counterclock = False, textprops = {'color':'white'})\n",
    "plt.axis('square')\n",
    "plt.title('Member Gender')\n",
    "plt.legend(loc = 'upper right');"
   ]
  },
  {
   "cell_type": "markdown",
   "metadata": {},
   "source": [
    "Unexpectedly, there are a disproportionate amount of male riders compared to female riders (and those who chose not to specify their gender). Almost 75% of all riders are male, while only 23% are female.\n",
    "\n",
    "Are most of the riders subscribers or just casual customers?"
   ]
  },
  {
   "cell_type": "code",
   "execution_count": 44,
   "metadata": {
    "scrolled": true
   },
   "outputs": [
    {
     "data": {
      "text/plain": [
       "Subscriber    157959\n",
       "Customer       16613\n",
       "Name: user_type, dtype: int64"
      ]
     },
     "execution_count": 44,
     "metadata": {},
     "output_type": "execute_result"
    }
   ],
   "source": [
    "user = bike.user_type.value_counts()\n",
    "user"
   ]
  },
  {
   "cell_type": "code",
   "execution_count": 45,
   "metadata": {},
   "outputs": [
    {
     "data": {
      "image/png": "[encoded data removed]",
      "text/plain": [
       "<Figure size 432x288 with 1 Axes>"
      ]
     },
     "metadata": {
      "needs_background": "light"
     },
     "output_type": "display_data"
    }
   ],
   "source": [
    "# Count by User Type\n",
    "sb.countplot(data = bike, x = 'user_type', order = user.index);"
   ]
  },
  {
   "cell_type": "code",
   "execution_count": 46,
   "metadata": {},
   "outputs": [
    {
     "data": {
      "image/png": "[encoded data removed]",
      "text/plain": [
       "<Figure size 432x288 with 1 Axes>"
      ]
     },
     "metadata": {},
     "output_type": "display_data"
    }
   ],
   "source": [
    "# Relative Frequency by User Type\n",
    "plt.pie(user, labels = user.index, startangle = 90, autopct = '%1.1f%%', \n",
    "        counterclock = False, textprops = {'color':'white'})\n",
    "plt.axis('square')\n",
    "plt.title('User Type')\n",
    "plt.legend(loc = 'upper right');"
   ]
  },
  {
   "cell_type": "markdown",
   "metadata": {},
   "source": [
    "90.5% of all riders are subscribers, while the other 9.5% are customers, just casual occasional users. It'll be interesting to explore later on what the respective groups' ride behaviors are.\n",
    "\n",
    "Since so many of these observations seem to relate back to work commuters, let's take a look at the most popular start stations."
   ]
  },
  {
   "cell_type": "code",
   "execution_count": 47,
   "metadata": {},
   "outputs": [
    {
     "data": {
      "text/plain": [
       "Powell St BART Station (Market St at 5th St)                 2143\n",
       "Steuart St at Market St                                      2181\n",
       "Howard St at Beale St                                        2211\n",
       "San Francisco Ferry Building (Harry Bridges Plaza)           2526\n",
       "San Francisco Caltrain (Townsend St at 4th St)               2552\n",
       "Powell St BART Station (Market St at 4th St)                 2616\n",
       "Montgomery St BART Station (Market St at 2nd St)             2705\n",
       "Berry St at 4th St                                           2931\n",
       "San Francisco Caltrain Station 2  (Townsend St at 4th St)    3385\n",
       "Market St at 10th St                                         3644\n",
       "Name: start_station_name, dtype: int64"
      ]
     },
     "execution_count": 47,
     "metadata": {},
     "output_type": "execute_result"
    }
   ],
   "source": [
    "top_stations = bike.start_station_name.value_counts()[0:10].sort_values()\n",
    "top_stations"
   ]
  },
  {
   "cell_type": "code",
   "execution_count": 48,
   "metadata": {
    "scrolled": true
   },
   "outputs": [
    {
     "data": {
      "image/png": "[encoded data removed]",
      "text/plain": [
       "<Figure size 432x288 with 1 Axes>"
      ]
     },
     "metadata": {
      "needs_background": "light"
     },
     "output_type": "display_data"
    }
   ],
   "source": [
    "top_stations.plot(kind = 'barh')\n",
    "plt.title('Top 10 Start Stations')\n",
    "plt.xlabel('Count')\n",
    "plt.ylabel('Start Station');"
   ]
  },
  {
   "cell_type": "markdown",
   "metadata": {},
   "source": [
    "As suspected, most of the bike rides start around the San Francisco Financial District, where many people in the Bay Area work."
   ]
  },
  {
   "cell_type": "markdown",
   "metadata": {},
   "source": [
    "### Discuss the distribution(s) of your variable(s) of interest. Were there any unusual points? Did you need to perform any transformations?\n",
    "\n",
    "Bikes are primarily used on the weekdays, with rides peaking at 8-9am and 5-6pm. Most of the bike trips are less than 15 min. Most of the users fall in the age range of 25-40 years old, are male, and are subscribers. A lot of these observations seem to point towards that most users regularly use Ford GoBike for work commuting. Of course, more exploration of this initial hypothesis is needed.\n",
    "\n",
    "### Of the features you investigated, were there any unusual distributions? Did you perform any operations on the data to tidy, adjust, or change the form of the data? If so, why did you do this?\n",
    "\n",
    "There was one distribution that threw me off initially. There seem to be a couple trips that lasted really long, with the longest being 1409 minutes, or about 24 hours. To remove outliers, I used describe() to look at only up to the 99th percentile and created a histogram from those values. Fortunately, there was no need for any log transformations on the dataset."
   ]
  },
  {
   "cell_type": "markdown",
   "metadata": {},
   "source": [
    "## Bivariate Exploration"
   ]
  },
  {
   "cell_type": "markdown",
   "metadata": {},
   "source": [
    "Just as the previous section started off by looking at time trends, start this section by exploring hourly usage by user type."
   ]
  },
  {
   "cell_type": "code",
   "execution_count": 49,
   "metadata": {
    "scrolled": true
   },
   "outputs": [
    {
     "name": "stderr",
     "output_type": "stream",
     "text": [
      "/Users/cynthialeu/opt/anaconda3/lib/python3.7/site-packages/seaborn/axisgrid.py:728: UserWarning: Using the countplot function without specifying `order` is likely to produce an incorrect plot.\n",
      "  warnings.warn(warning)\n"
     ]
    },
    {
     "data": {
      "image/png": "[encoded data removed]",
      "text/plain": [
       "<Figure size 864x432 with 2 Axes>"
      ]
     },
     "metadata": {
      "needs_background": "light"
     },
     "output_type": "display_data"
    }
   ],
   "source": [
    "# Hourly Usage by User Type\n",
    "g = sb.FacetGrid(data = bike, col = 'user_type')\n",
    "g.map(sb.countplot, 'start_hour')\n",
    "g.fig.set_figwidth(12)\n",
    "g.fig.set_figheight(6);"
   ]
  },
  {
   "cell_type": "markdown",
   "metadata": {},
   "source": [
    "Reaffirming what was demonstrated with the pie chart in the first section, customers really do not make up much of the user base. Customer distribution by hour is more evenly spead, but it's clear that the bimodial peaks during commute hours are dominated by subscribers. \n",
    "\n",
    "Next, consider trip duration by user type."
   ]
  },
  {
   "cell_type": "markdown",
   "metadata": {},
   "source": [
    "Earlier, there was an issue with outliers in duration_min that greatly skewed the distribuion. It's time to resolve it. To do so, query only the records where duration_min is arbitrarily <= 70."
   ]
  },
  {
   "cell_type": "code",
   "execution_count": 50,
   "metadata": {},
   "outputs": [],
   "source": [
    "bike = bike[bike.duration_min <= 70]"
   ]
  },
  {
   "cell_type": "code",
   "execution_count": 51,
   "metadata": {
    "scrolled": true
   },
   "outputs": [
    {
     "data": {
      "text/plain": [
       "(-5.821092284445902, 76.8210922844459)"
      ]
     },
     "execution_count": 51,
     "metadata": {},
     "output_type": "execute_result"
    },
    {
     "data": {
      "image/png": "[encoded data removed]",
      "text/plain": [
       "<Figure size 1152x360 with 2 Axes>"
      ]
     },
     "metadata": {
      "needs_background": "light"
     },
     "output_type": "display_data"
    }
   ],
   "source": [
    "# Trip Duration by User Type\n",
    "plt.figure(figsize = [16, 5])\n",
    "base_color = sb.color_palette()[0]\n",
    "plt.suptitle('Trip Duration (min) by User Type')\n",
    "\n",
    "# LEFT plot: violin plot\n",
    "plt.subplot(1, 2, 1)\n",
    "ax1 = sb.violinplot(data = bike, x = 'user_type', y = 'duration_min', color=base_color, inner='quartile');\n",
    "\n",
    "# RIGHT plot: box plot\n",
    "plt.subplot(1, 2, 2)\n",
    "sb.boxplot(data = bike, x = 'user_type', y = 'duration_min', color=base_color);\n",
    "\n",
    "plt.ylim(ax1.get_ylim())"
   ]
  },
  {
   "cell_type": "markdown",
   "metadata": {},
   "source": [
    "The distribution for trip duration is much flatter for subscribers compared to casual riders; that is, they are taking shorter trips. Customers have a longer distribution, as there is more variety for their reasons of biking, and thus more may be renting bikes for a longer duration.\n",
    "\n",
    "Take another look at trip duration by day of week."
   ]
  },
  {
   "cell_type": "code",
   "execution_count": 52,
   "metadata": {},
   "outputs": [
    {
     "data": {
      "image/png": "[encoded data removed]",
      "text/plain": [
       "<Figure size 432x288 with 1 Axes>"
      ]
     },
     "metadata": {
      "needs_background": "light"
     },
     "output_type": "display_data"
    }
   ],
   "source": [
    "# Trip Duration by Day of Week\n",
    "sb.pointplot(data = bike, x = 'start_day', y = 'duration_min')\n",
    "plt.xticks(rotation = 20);"
   ]
  },
  {
   "cell_type": "markdown",
   "metadata": {},
   "source": [
    "The average trip duration during the weekdays and weekend vary by two min. While this doesn't seem much, this is still a very general look at 170K+ records. Later in the multivariate exploration section, dig into this by user type.\n",
    "\n",
    "Since gender hasn't been explored much, let's do that. "
   ]
  },
  {
   "cell_type": "code",
   "execution_count": 53,
   "metadata": {},
   "outputs": [],
   "source": [
    "dg_counts = bike.groupby(['start_day', 'member_gender']).size()\n",
    "dg_counts = dg_counts.reset_index(name = 'count')\n",
    "dg_counts = dg_counts.pivot(index = 'start_day', columns = 'member_gender', values = 'count')"
   ]
  },
  {
   "cell_type": "code",
   "execution_count": 54,
   "metadata": {},
   "outputs": [
    {
     "data": {
      "text/plain": [
       "<matplotlib.axes._subplots.AxesSubplot at 0x7fb95e2991d0>"
      ]
     },
     "execution_count": 54,
     "metadata": {},
     "output_type": "execute_result"
    },
    {
     "data": {
      "image/png": "[encoded data removed]",
      "text/plain": [
       "<Figure size 432x288 with 2 Axes>"
      ]
     },
     "metadata": {
      "needs_background": "light"
     },
     "output_type": "display_data"
    }
   ],
   "source": [
    "# Weekly Usage by Member Gender\n",
    "sb.heatmap(dg_counts, annot = True, fmt = 'd')"
   ]
  },
  {
   "cell_type": "markdown",
   "metadata": {},
   "source": [
    "There's nothing spectacular to point out here between the genders, as it's already known that there are almost 3x more male users than female. Tuesdays and Thursdays seem to have the most bike usage for either gender. \n",
    "\n",
    "Let's look at how gender and user type interact."
   ]
  },
  {
   "cell_type": "code",
   "execution_count": 55,
   "metadata": {},
   "outputs": [
    {
     "data": {
      "image/png": "[encoded data removed]",
      "text/plain": [
       "<Figure size 432x288 with 1 Axes>"
      ]
     },
     "metadata": {
      "needs_background": "light"
     },
     "output_type": "display_data"
    }
   ],
   "source": [
    "# Member Gender by User Type\n",
    "sb.countplot(data = bike, x = 'user_type', hue = 'member_gender');"
   ]
  },
  {
   "cell_type": "markdown",
   "metadata": {},
   "source": [
    "Again, nothing groundbreaking. Most subscribers are male, though the 40k count female can't be easily discounted. The bikeshare system should consider why they're not reaching out to more female customers.\n",
    "\n",
    "Continuing the exploration of member demographic, compare member age with user type."
   ]
  },
  {
   "cell_type": "code",
   "execution_count": 56,
   "metadata": {},
   "outputs": [
    {
     "data": {
      "text/plain": [
       "<Figure size 432x288 with 0 Axes>"
      ]
     },
     "metadata": {},
     "output_type": "display_data"
    },
    {
     "data": {
      "image/png": "[encoded data removed]",
      "text/plain": [
       "<Figure size 864x432 with 2 Axes>"
      ]
     },
     "metadata": {
      "needs_background": "light"
     },
     "output_type": "display_data"
    }
   ],
   "source": [
    "# Member Age by User Type\n",
    "plt.suptitle('Member Age by User Type')\n",
    "bins = np.arange(0, bike.member_age.max()+5, 5)\n",
    "g = sb.FacetGrid(data = bike, col = 'user_type')\n",
    "g.map(sb.distplot, 'member_age', bins = bins)\n",
    "plt.xticks(bins, bins)\n",
    "g.fig.set_figwidth(12)\n",
    "g.fig.set_figheight(6);"
   ]
  },
  {
   "cell_type": "markdown",
   "metadata": {},
   "source": [
    "Distribution of member age by user type doesn't have as large of a difference as expected. "
   ]
  },
  {
   "cell_type": "markdown",
   "metadata": {},
   "source": [
    "### Talk about some of the relationships you observed in this part of the investigation. How did the feature(s) of interest vary with other features in the dataset?\n",
    "\n",
    "I explored user type in much greater depth in this section. First of all, there is much greater usage from subscribers. This shows to some degree that these Ford GoBike users are loyal to the service. Subscribers dominate those commuting hours, but their trips are generally shorter. On the other hand, users labeled as customers don't demonstrate as strict of a pattern. The hours when they ride seem to spead out throughout the day, and their trip durations vary as well. I expect to find a deeper relationship between user_type and these time-relevant fields in the next section.\n",
    "\n",
    "### Did you observe any interesting relationships between the other features (not the main feature(s) of interest)?\n",
    "\n",
    "I thought member age would fluctuate more based on user type, but I didn't find that relationship, at least not for this particular dataset of February 2019. Trip duration on the weekends seem to be higher. This could be due to more casual users renting the bikes, or subscribers may just want to use it more for leisure than for destination purposes. There was not much to say about gender behavior, but while analyzing gender, I chanced upon that Tuesdays and Thursdays are busiest for both genders. I'm not sure why those two days are so busy."
   ]
  },
  {
   "cell_type": "markdown",
   "metadata": {},
   "source": [
    "## Multivariate Exploration"
   ]
  },
  {
   "cell_type": "markdown",
   "metadata": {},
   "source": [
    "How does hourly usage vary throughout the week for subscribers v. customers?\n",
    "\n",
    "Resource for building a heatmap: [Heatmap Basics with Seaborn](https://towardsdatascience.com/heatmap-basics-with-pythons-seaborn-fb92ea280a6c)"
   ]
  },
  {
   "cell_type": "code",
   "execution_count": 57,
   "metadata": {},
   "outputs": [
    {
     "data": {
      "text/html": [
       "<div>\n",
       "<style scoped>\n",
       "    .dataframe tbody tr th:only-of-type {\n",
       "        vertical-align: middle;\n",
       "    }\n",
       "\n",
       "    .dataframe tbody tr th {\n",
       "        vertical-align: top;\n",
       "    }\n",
       "\n",
       "    .dataframe thead th {\n",
       "        text-align: right;\n",
       "    }\n",
       "</style>\n",
       "<table border=\"1\" class=\"dataframe\">\n",
       "  <thead>\n",
       "    <tr style=\"text-align: right;\">\n",
       "      <th>start_hour</th>\n",
       "      <th>0</th>\n",
       "      <th>1</th>\n",
       "      <th>2</th>\n",
       "      <th>3</th>\n",
       "      <th>4</th>\n",
       "      <th>5</th>\n",
       "      <th>6</th>\n",
       "      <th>7</th>\n",
       "      <th>8</th>\n",
       "      <th>9</th>\n",
       "      <th>...</th>\n",
       "      <th>14</th>\n",
       "      <th>15</th>\n",
       "      <th>16</th>\n",
       "      <th>17</th>\n",
       "      <th>18</th>\n",
       "      <th>19</th>\n",
       "      <th>20</th>\n",
       "      <th>21</th>\n",
       "      <th>22</th>\n",
       "      <th>23</th>\n",
       "    </tr>\n",
       "    <tr>\n",
       "      <th>start_day</th>\n",
       "      <th></th>\n",
       "      <th></th>\n",
       "      <th></th>\n",
       "      <th></th>\n",
       "      <th></th>\n",
       "      <th></th>\n",
       "      <th></th>\n",
       "      <th></th>\n",
       "      <th></th>\n",
       "      <th></th>\n",
       "      <th></th>\n",
       "      <th></th>\n",
       "      <th></th>\n",
       "      <th></th>\n",
       "      <th></th>\n",
       "      <th></th>\n",
       "      <th></th>\n",
       "      <th></th>\n",
       "      <th></th>\n",
       "      <th></th>\n",
       "      <th></th>\n",
       "    </tr>\n",
       "  </thead>\n",
       "  <tbody>\n",
       "    <tr>\n",
       "      <th>Monday</th>\n",
       "      <td>86</td>\n",
       "      <td>42</td>\n",
       "      <td>39</td>\n",
       "      <td>19</td>\n",
       "      <td>35</td>\n",
       "      <td>124</td>\n",
       "      <td>548</td>\n",
       "      <td>1538</td>\n",
       "      <td>2957</td>\n",
       "      <td>2047</td>\n",
       "      <td>...</td>\n",
       "      <td>766</td>\n",
       "      <td>1032</td>\n",
       "      <td>1766</td>\n",
       "      <td>2987</td>\n",
       "      <td>2185</td>\n",
       "      <td>1323</td>\n",
       "      <td>857</td>\n",
       "      <td>558</td>\n",
       "      <td>344</td>\n",
       "      <td>171</td>\n",
       "    </tr>\n",
       "    <tr>\n",
       "      <th>Tuesday</th>\n",
       "      <td>74</td>\n",
       "      <td>51</td>\n",
       "      <td>31</td>\n",
       "      <td>16</td>\n",
       "      <td>28</td>\n",
       "      <td>164</td>\n",
       "      <td>650</td>\n",
       "      <td>2058</td>\n",
       "      <td>3918</td>\n",
       "      <td>3027</td>\n",
       "      <td>...</td>\n",
       "      <td>949</td>\n",
       "      <td>1062</td>\n",
       "      <td>2009</td>\n",
       "      <td>3643</td>\n",
       "      <td>2909</td>\n",
       "      <td>1535</td>\n",
       "      <td>1040</td>\n",
       "      <td>622</td>\n",
       "      <td>323</td>\n",
       "      <td>164</td>\n",
       "    </tr>\n",
       "    <tr>\n",
       "      <th>Wednesday</th>\n",
       "      <td>74</td>\n",
       "      <td>43</td>\n",
       "      <td>28</td>\n",
       "      <td>13</td>\n",
       "      <td>22</td>\n",
       "      <td>149</td>\n",
       "      <td>527</td>\n",
       "      <td>1704</td>\n",
       "      <td>3323</td>\n",
       "      <td>2407</td>\n",
       "      <td>...</td>\n",
       "      <td>842</td>\n",
       "      <td>974</td>\n",
       "      <td>1949</td>\n",
       "      <td>3492</td>\n",
       "      <td>2826</td>\n",
       "      <td>1679</td>\n",
       "      <td>1065</td>\n",
       "      <td>814</td>\n",
       "      <td>470</td>\n",
       "      <td>213</td>\n",
       "    </tr>\n",
       "    <tr>\n",
       "      <th>Thursday</th>\n",
       "      <td>107</td>\n",
       "      <td>41</td>\n",
       "      <td>25</td>\n",
       "      <td>17</td>\n",
       "      <td>38</td>\n",
       "      <td>161</td>\n",
       "      <td>658</td>\n",
       "      <td>2111</td>\n",
       "      <td>4155</td>\n",
       "      <td>2554</td>\n",
       "      <td>...</td>\n",
       "      <td>991</td>\n",
       "      <td>1226</td>\n",
       "      <td>2350</td>\n",
       "      <td>4048</td>\n",
       "      <td>3287</td>\n",
       "      <td>1787</td>\n",
       "      <td>1279</td>\n",
       "      <td>814</td>\n",
       "      <td>489</td>\n",
       "      <td>276</td>\n",
       "    </tr>\n",
       "    <tr>\n",
       "      <th>Friday</th>\n",
       "      <td>126</td>\n",
       "      <td>75</td>\n",
       "      <td>55</td>\n",
       "      <td>27</td>\n",
       "      <td>38</td>\n",
       "      <td>138</td>\n",
       "      <td>574</td>\n",
       "      <td>1814</td>\n",
       "      <td>3570</td>\n",
       "      <td>2716</td>\n",
       "      <td>...</td>\n",
       "      <td>775</td>\n",
       "      <td>1074</td>\n",
       "      <td>1849</td>\n",
       "      <td>2757</td>\n",
       "      <td>2055</td>\n",
       "      <td>1104</td>\n",
       "      <td>617</td>\n",
       "      <td>462</td>\n",
       "      <td>427</td>\n",
       "      <td>252</td>\n",
       "    </tr>\n",
       "    <tr>\n",
       "      <th>Saturday</th>\n",
       "      <td>187</td>\n",
       "      <td>145</td>\n",
       "      <td>66</td>\n",
       "      <td>21</td>\n",
       "      <td>19</td>\n",
       "      <td>25</td>\n",
       "      <td>88</td>\n",
       "      <td>187</td>\n",
       "      <td>440</td>\n",
       "      <td>695</td>\n",
       "      <td>...</td>\n",
       "      <td>1062</td>\n",
       "      <td>968</td>\n",
       "      <td>910</td>\n",
       "      <td>926</td>\n",
       "      <td>705</td>\n",
       "      <td>590</td>\n",
       "      <td>393</td>\n",
       "      <td>360</td>\n",
       "      <td>252</td>\n",
       "      <td>201</td>\n",
       "    </tr>\n",
       "    <tr>\n",
       "      <th>Sunday</th>\n",
       "      <td>136</td>\n",
       "      <td>80</td>\n",
       "      <td>72</td>\n",
       "      <td>31</td>\n",
       "      <td>19</td>\n",
       "      <td>25</td>\n",
       "      <td>49</td>\n",
       "      <td>135</td>\n",
       "      <td>284</td>\n",
       "      <td>512</td>\n",
       "      <td>...</td>\n",
       "      <td>1092</td>\n",
       "      <td>1048</td>\n",
       "      <td>1111</td>\n",
       "      <td>971</td>\n",
       "      <td>822</td>\n",
       "      <td>685</td>\n",
       "      <td>490</td>\n",
       "      <td>411</td>\n",
       "      <td>249</td>\n",
       "      <td>133</td>\n",
       "    </tr>\n",
       "  </tbody>\n",
       "</table>\n",
       "<p>7 rows × 24 columns</p>\n",
       "</div>"
      ],
      "text/plain": [
       "start_hour   0    1   2   3   4    5    6     7     8     9   ...    14    15  \\\n",
       "start_day                                                     ...               \n",
       "Monday       86   42  39  19  35  124  548  1538  2957  2047  ...   766  1032   \n",
       "Tuesday      74   51  31  16  28  164  650  2058  3918  3027  ...   949  1062   \n",
       "Wednesday    74   43  28  13  22  149  527  1704  3323  2407  ...   842   974   \n",
       "Thursday    107   41  25  17  38  161  658  2111  4155  2554  ...   991  1226   \n",
       "Friday      126   75  55  27  38  138  574  1814  3570  2716  ...   775  1074   \n",
       "Saturday    187  145  66  21  19   25   88   187   440   695  ...  1062   968   \n",
       "Sunday      136   80  72  31  19   25   49   135   284   512  ...  1092  1048   \n",
       "\n",
       "start_hour    16    17    18    19    20   21   22   23  \n",
       "start_day                                                \n",
       "Monday      1766  2987  2185  1323   857  558  344  171  \n",
       "Tuesday     2009  3643  2909  1535  1040  622  323  164  \n",
       "Wednesday   1949  3492  2826  1679  1065  814  470  213  \n",
       "Thursday    2350  4048  3287  1787  1279  814  489  276  \n",
       "Friday      1849  2757  2055  1104   617  462  427  252  \n",
       "Saturday     910   926   705   590   393  360  252  201  \n",
       "Sunday      1111   971   822   685   490  411  249  133  \n",
       "\n",
       "[7 rows x 24 columns]"
      ]
     },
     "execution_count": 57,
     "metadata": {},
     "output_type": "execute_result"
    }
   ],
   "source": [
    "# Create a new table `subscriber` counting the number of bike rides per DOW and HOD by subscriber-only user type\n",
    "subscriber = bike.query(\"user_type == 'Subscriber'\").groupby(['start_hour', 'start_day']).size()\n",
    "# df.groupby().size() counts the number of rows in each group\n",
    "subscriber = subscriber.unstack(level = 0)\n",
    "subscriber # total subscriber rides = 157959"
   ]
  },
  {
   "cell_type": "code",
   "execution_count": 58,
   "metadata": {},
   "outputs": [
    {
     "data": {
      "text/html": [
       "<div>\n",
       "<style scoped>\n",
       "    .dataframe tbody tr th:only-of-type {\n",
       "        vertical-align: middle;\n",
       "    }\n",
       "\n",
       "    .dataframe tbody tr th {\n",
       "        vertical-align: top;\n",
       "    }\n",
       "\n",
       "    .dataframe thead th {\n",
       "        text-align: right;\n",
       "    }\n",
       "</style>\n",
       "<table border=\"1\" class=\"dataframe\">\n",
       "  <thead>\n",
       "    <tr style=\"text-align: right;\">\n",
       "      <th>start_hour</th>\n",
       "      <th>0</th>\n",
       "      <th>1</th>\n",
       "      <th>2</th>\n",
       "      <th>3</th>\n",
       "      <th>4</th>\n",
       "      <th>5</th>\n",
       "      <th>6</th>\n",
       "      <th>7</th>\n",
       "      <th>8</th>\n",
       "      <th>9</th>\n",
       "      <th>...</th>\n",
       "      <th>14</th>\n",
       "      <th>15</th>\n",
       "      <th>16</th>\n",
       "      <th>17</th>\n",
       "      <th>18</th>\n",
       "      <th>19</th>\n",
       "      <th>20</th>\n",
       "      <th>21</th>\n",
       "      <th>22</th>\n",
       "      <th>23</th>\n",
       "    </tr>\n",
       "    <tr>\n",
       "      <th>start_day</th>\n",
       "      <th></th>\n",
       "      <th></th>\n",
       "      <th></th>\n",
       "      <th></th>\n",
       "      <th></th>\n",
       "      <th></th>\n",
       "      <th></th>\n",
       "      <th></th>\n",
       "      <th></th>\n",
       "      <th></th>\n",
       "      <th></th>\n",
       "      <th></th>\n",
       "      <th></th>\n",
       "      <th></th>\n",
       "      <th></th>\n",
       "      <th></th>\n",
       "      <th></th>\n",
       "      <th></th>\n",
       "      <th></th>\n",
       "      <th></th>\n",
       "      <th></th>\n",
       "    </tr>\n",
       "  </thead>\n",
       "  <tbody>\n",
       "    <tr>\n",
       "      <th>Monday</th>\n",
       "      <td>10</td>\n",
       "      <td>1</td>\n",
       "      <td>1</td>\n",
       "      <td>0</td>\n",
       "      <td>3</td>\n",
       "      <td>6</td>\n",
       "      <td>38</td>\n",
       "      <td>106</td>\n",
       "      <td>225</td>\n",
       "      <td>165</td>\n",
       "      <td>...</td>\n",
       "      <td>125</td>\n",
       "      <td>133</td>\n",
       "      <td>216</td>\n",
       "      <td>306</td>\n",
       "      <td>170</td>\n",
       "      <td>91</td>\n",
       "      <td>63</td>\n",
       "      <td>46</td>\n",
       "      <td>26</td>\n",
       "      <td>8</td>\n",
       "    </tr>\n",
       "    <tr>\n",
       "      <th>Tuesday</th>\n",
       "      <td>3</td>\n",
       "      <td>2</td>\n",
       "      <td>2</td>\n",
       "      <td>0</td>\n",
       "      <td>1</td>\n",
       "      <td>9</td>\n",
       "      <td>28</td>\n",
       "      <td>124</td>\n",
       "      <td>310</td>\n",
       "      <td>191</td>\n",
       "      <td>...</td>\n",
       "      <td>108</td>\n",
       "      <td>123</td>\n",
       "      <td>170</td>\n",
       "      <td>313</td>\n",
       "      <td>229</td>\n",
       "      <td>116</td>\n",
       "      <td>59</td>\n",
       "      <td>45</td>\n",
       "      <td>27</td>\n",
       "      <td>12</td>\n",
       "    </tr>\n",
       "    <tr>\n",
       "      <th>Wednesday</th>\n",
       "      <td>8</td>\n",
       "      <td>2</td>\n",
       "      <td>0</td>\n",
       "      <td>0</td>\n",
       "      <td>1</td>\n",
       "      <td>6</td>\n",
       "      <td>34</td>\n",
       "      <td>95</td>\n",
       "      <td>250</td>\n",
       "      <td>156</td>\n",
       "      <td>...</td>\n",
       "      <td>88</td>\n",
       "      <td>109</td>\n",
       "      <td>164</td>\n",
       "      <td>312</td>\n",
       "      <td>214</td>\n",
       "      <td>101</td>\n",
       "      <td>76</td>\n",
       "      <td>53</td>\n",
       "      <td>33</td>\n",
       "      <td>25</td>\n",
       "    </tr>\n",
       "    <tr>\n",
       "      <th>Thursday</th>\n",
       "      <td>13</td>\n",
       "      <td>4</td>\n",
       "      <td>3</td>\n",
       "      <td>1</td>\n",
       "      <td>2</td>\n",
       "      <td>18</td>\n",
       "      <td>40</td>\n",
       "      <td>147</td>\n",
       "      <td>301</td>\n",
       "      <td>236</td>\n",
       "      <td>...</td>\n",
       "      <td>118</td>\n",
       "      <td>134</td>\n",
       "      <td>235</td>\n",
       "      <td>445</td>\n",
       "      <td>319</td>\n",
       "      <td>166</td>\n",
       "      <td>90</td>\n",
       "      <td>56</td>\n",
       "      <td>43</td>\n",
       "      <td>30</td>\n",
       "    </tr>\n",
       "    <tr>\n",
       "      <th>Friday</th>\n",
       "      <td>13</td>\n",
       "      <td>2</td>\n",
       "      <td>7</td>\n",
       "      <td>1</td>\n",
       "      <td>2</td>\n",
       "      <td>13</td>\n",
       "      <td>29</td>\n",
       "      <td>135</td>\n",
       "      <td>337</td>\n",
       "      <td>259</td>\n",
       "      <td>...</td>\n",
       "      <td>117</td>\n",
       "      <td>159</td>\n",
       "      <td>220</td>\n",
       "      <td>281</td>\n",
       "      <td>145</td>\n",
       "      <td>69</td>\n",
       "      <td>48</td>\n",
       "      <td>56</td>\n",
       "      <td>47</td>\n",
       "      <td>24</td>\n",
       "    </tr>\n",
       "    <tr>\n",
       "      <th>Saturday</th>\n",
       "      <td>22</td>\n",
       "      <td>16</td>\n",
       "      <td>6</td>\n",
       "      <td>4</td>\n",
       "      <td>5</td>\n",
       "      <td>9</td>\n",
       "      <td>2</td>\n",
       "      <td>15</td>\n",
       "      <td>53</td>\n",
       "      <td>78</td>\n",
       "      <td>...</td>\n",
       "      <td>244</td>\n",
       "      <td>207</td>\n",
       "      <td>181</td>\n",
       "      <td>146</td>\n",
       "      <td>80</td>\n",
       "      <td>67</td>\n",
       "      <td>40</td>\n",
       "      <td>35</td>\n",
       "      <td>22</td>\n",
       "      <td>32</td>\n",
       "    </tr>\n",
       "    <tr>\n",
       "      <th>Sunday</th>\n",
       "      <td>15</td>\n",
       "      <td>17</td>\n",
       "      <td>16</td>\n",
       "      <td>3</td>\n",
       "      <td>3</td>\n",
       "      <td>4</td>\n",
       "      <td>1</td>\n",
       "      <td>16</td>\n",
       "      <td>32</td>\n",
       "      <td>69</td>\n",
       "      <td>...</td>\n",
       "      <td>250</td>\n",
       "      <td>241</td>\n",
       "      <td>237</td>\n",
       "      <td>180</td>\n",
       "      <td>104</td>\n",
       "      <td>63</td>\n",
       "      <td>65</td>\n",
       "      <td>39</td>\n",
       "      <td>26</td>\n",
       "      <td>17</td>\n",
       "    </tr>\n",
       "  </tbody>\n",
       "</table>\n",
       "<p>7 rows × 24 columns</p>\n",
       "</div>"
      ],
      "text/plain": [
       "start_hour  0   1   2   3   4   5   6    7    8    9   ...   14   15   16  \\\n",
       "start_day                                              ...                  \n",
       "Monday      10   1   1   0   3   6  38  106  225  165  ...  125  133  216   \n",
       "Tuesday      3   2   2   0   1   9  28  124  310  191  ...  108  123  170   \n",
       "Wednesday    8   2   0   0   1   6  34   95  250  156  ...   88  109  164   \n",
       "Thursday    13   4   3   1   2  18  40  147  301  236  ...  118  134  235   \n",
       "Friday      13   2   7   1   2  13  29  135  337  259  ...  117  159  220   \n",
       "Saturday    22  16   6   4   5   9   2   15   53   78  ...  244  207  181   \n",
       "Sunday      15  17  16   3   3   4   1   16   32   69  ...  250  241  237   \n",
       "\n",
       "start_hour   17   18   19  20  21  22  23  \n",
       "start_day                                  \n",
       "Monday      306  170   91  63  46  26   8  \n",
       "Tuesday     313  229  116  59  45  27  12  \n",
       "Wednesday   312  214  101  76  53  33  25  \n",
       "Thursday    445  319  166  90  56  43  30  \n",
       "Friday      281  145   69  48  56  47  24  \n",
       "Saturday    146   80   67  40  35  22  32  \n",
       "Sunday      180  104   63  65  39  26  17  \n",
       "\n",
       "[7 rows x 24 columns]"
      ]
     },
     "execution_count": 58,
     "metadata": {},
     "output_type": "execute_result"
    }
   ],
   "source": [
    "# Create a new table `customer` counting the number of bike rides per DOW and HOD by customer-only user type\n",
    "customer = bike.query(\"user_type == 'Customer'\").groupby(['start_hour', 'start_day']).size()\n",
    "customer = customer.unstack(level = 0)\n",
    "customer # total customer rides = 16613"
   ]
  },
  {
   "cell_type": "code",
   "execution_count": 59,
   "metadata": {},
   "outputs": [
    {
     "data": {
      "image/png": "[encoded data removed]",
      "text/plain": [
       "<Figure size 864x720 with 4 Axes>"
      ]
     },
     "metadata": {
      "needs_background": "light"
     },
     "output_type": "display_data"
    }
   ],
   "source": [
    "# Hourly Usage by Day of Week by User Type\n",
    "plt.figure(figsize = [12,10]) \n",
    "plt.suptitle('Hourly Usage by Day for Subscribers and Customers')\n",
    "\n",
    "# subscriber heatmap on top\n",
    "plt.subplot(2, 1, 1) # 2 rows, 1 col, subplot 1\n",
    "sb.heatmap(data = subscriber, cmap = 'magma_r')\n",
    "plt.title('Subscriber')\n",
    "plt.xlabel('Hour of Day')\n",
    "plt.ylabel('Day of Week');\n",
    "# plt.hist2d(data = subscriber, x = 'start_hour', y = 'start_day') doesn't work because start_day is categorical\n",
    "\n",
    "# customer heat map on bottom\n",
    "plt.subplot(2, 1, 2) # 2 rows, 1 col, subplot 2\n",
    "sb.heatmap(data = customer, cmap = 'magma_r')\n",
    "plt.title('Customer')\n",
    "plt.xlabel('Hour of Day')\n",
    "plt.ylabel('Day of Week');"
   ]
  },
  {
   "cell_type": "markdown",
   "metadata": {},
   "source": [
    "Reaffirming previous observations, subscribers and customers have very different ride patterns. Subscribers ride most on weekdays, especially during those morning and late afternoon hours. Customers also ride fairly frequently those hours, but they also ride more during the weekends, especially during the daytime hours.\n",
    "\n",
    "How does the average trip duration vary throughout the week for subscribers v. customers?"
   ]
  },
  {
   "cell_type": "code",
   "execution_count": 60,
   "metadata": {
    "scrolled": true
   },
   "outputs": [
    {
     "data": {
      "image/png": "[encoded data removed]",
      "text/plain": [
       "<Figure size 432x288 with 1 Axes>"
      ]
     },
     "metadata": {
      "needs_background": "light"
     },
     "output_type": "display_data"
    }
   ],
   "source": [
    "sb.pointplot(data = bike, x = 'start_day', y = 'duration_min', hue = 'user_type',\n",
    "             ci = None, linestyles =\"\")\n",
    "plt.title('Trip Duration by Day for Subscribers and Customers')\n",
    "plt.xticks(rotation = 20)\n",
    "plt.ylim(0, 20);"
   ]
  },
  {
   "cell_type": "markdown",
   "metadata": {},
   "source": [
    "Again confirming earlier behaviors, this pointplot shows that subscribers make much shorter trips compared to customers, no matter which day of week. Since subscribers rent bikes for very specific reasons on the weekdays, average trip duration stays fairly constant. Duration increases slightly on the weekends for them, but even moreso for customers. "
   ]
  },
  {
   "cell_type": "markdown",
   "metadata": {},
   "source": [
    "### Talk about some of the relationships you observed in this part of the investigation. Were there features that strengthened each other in terms of looking at your feature(s) of interest?\n",
    "\n",
    "This last section in multivariate exploration really strengthened those patterns observed from the univariate and bivariate exploration sections. Subscriber bike usage is highly concentrated on weekdays between 8-9am and 5-6pm for those regular work commuters. Since they're just going to and from work, average trip duration doesn't fluctuate much. On the other hand, customers who are most likely just casual, occasional riders, are much more flexible with why they're using the bikes. While their weekday hours are similar wih subscribers, customers also use bikes more on weekends, for longer durations on average too. One guess is that the customer group consists of tourists using bikes as a cheaper and more unique way to explore San Francisco and the Bay Area.\n",
    "\n",
    "### Were there any interesting or surprising interactions between features?\n",
    "\n",
    "Based on the two multivariate explorations, there was nothing too surprising. If I'm considering the previous sections, I would love to see something new or interesting in how gender and age relate to bike usage. "
   ]
  }
 ],
 "metadata": {
  "kernelspec": {
   "display_name": "Python 3",
   "language": "python",
   "name": "python3"
  },
  "language_info": {
   "codemirror_mode": {
    "name": "ipython",
    "version": 3
   },
   "file_extension": ".py",
   "mimetype": "text/x-python",
   "name": "python",
   "nbconvert_exporter": "python",
   "pygments_lexer": "ipython3",
   "version": "3.7.6"
  }
 },
 "nbformat": 4,
 "nbformat_minor": 2
}
